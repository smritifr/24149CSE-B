{
 "cells": [
  {
   "cell_type": "code",
   "execution_count": 1,
   "id": "21034dd3-c3af-46cb-b4ee-48b6c8529ba1",
   "metadata": {},
   "outputs": [
    {
     "name": "stdin",
     "output_type": "stream",
     "text": [
      "enter yo number bro 3\n"
     ]
    },
    {
     "name": "stdout",
     "output_type": "stream",
     "text": [
      "number is positive\n"
     ]
    }
   ],
   "source": [
    "num=int(input(\"enter your number\"))\n",
    "if num<0:\n",
    "    print(\"num is negative\")\n",
    "else:\n",
    "    print(\"num is positive\")"
   ]
  },
  {
   "cell_type": "code",
   "execution_count": 3,
   "id": "a5fa5de7-a4ba-4299-8d31-62bf2e266547",
   "metadata": {},
   "outputs": [
    {
     "name": "stdin",
     "output_type": "stream",
     "text": [
      "enter your number 14\n"
     ]
    },
    {
     "name": "stdout",
     "output_type": "stream",
     "text": [
      "num is even\n"
     ]
    }
   ],
   "source": [
    "num=int(input(\"enter your number\"))\n",
    "if num % 2==0:\n",
    "    print(\"num is even\")\n",
    "else:\n",
    "    print(\"num is odd\")"
   ]
  },
  {
   "cell_type": "code",
   "execution_count": 5,
   "id": "51b06739-9efc-4fd5-aa66-a6ab2f9a0248",
   "metadata": {},
   "outputs": [
    {
     "name": "stdin",
     "output_type": "stream",
     "text": [
      "enter your number 16\n"
     ]
    },
    {
     "name": "stdout",
     "output_type": "stream",
     "text": [
      "you are not eligible for voting\n"
     ]
    }
   ],
   "source": [
    "age=int(input(\"enter your number\"))\n",
    "if age >18:\n",
    "    print(\"you are eligible for voting\")\n",
    "else:\n",
    "    print(\"you are not eligible for voting\")"
   ]
  },
  {
   "cell_type": "code",
   "execution_count": 18,
   "id": "7f393c33-828a-472a-825d-a6cd0e100c02",
   "metadata": {},
   "outputs": [
    {
     "name": "stdin",
     "output_type": "stream",
     "text": [
      "enter your number 32\n",
      "enter your number 56\n",
      "enter your number 29\n"
     ]
    },
    {
     "name": "stdout",
     "output_type": "stream",
     "text": [
      "b is  the biggest\n"
     ]
    }
   ],
   "source": [
    "a=int(input(\"enter your number\"))\n",
    "b=int(input(\"enter your number\"))\n",
    "c=int(input(\"enter your number\"))\n",
    "if a>b and a>c:\n",
    "        print(\"a is the biggest\")\n",
    "if b>a and b>c:\n",
    "        print(\"b is  the biggest\")\n",
    "if c>a and c>b:\n",
    "        print(\"c is the biggest\")"
   ]
  },
  {
   "cell_type": "code",
   "execution_count": 24,
   "id": "1ef0e4bb-85d2-4177-b8b0-dbfc5c7cd367",
   "metadata": {},
   "outputs": [
    {
     "name": "stdin",
     "output_type": "stream",
     "text": [
      "enter the average marks of the student: 56\n"
     ]
    },
    {
     "name": "stdout",
     "output_type": "stream",
     "text": [
      "c grade\n"
     ]
    }
   ],
   "source": [
    "avg_marks=int(input(\"enter the average marks of the student:\"))\n",
    "if avg_marks>80:\n",
    "    print(\"A grade\")\n",
    "elif avg_marks>60 and avg_marks<=80:\n",
    "    print(\"B grade\")\n",
    "elif avg_marks>40 and avg_marks<=60:\n",
    "    print(\"c grade\")\n",
    "elif avg_marks<=40:\n",
    "    print(\"f grade\")"
   ]
  },
  {
   "cell_type": "code",
   "execution_count": 13,
   "id": "df1901ad-0ac2-456a-8ce3-36c885083361",
   "metadata": {},
   "outputs": [
    {
     "name": "stdin",
     "output_type": "stream",
     "text": [
      "enter a character to find its type: e\n"
     ]
    },
    {
     "name": "stdout",
     "output_type": "stream",
     "text": [
      "character is a vowel\n",
      "the total points are 5\n"
     ]
    }
   ],
   "source": [
    "character=input(\"enter a character to find its type:\")\n",
    "points=0\n",
    "if character in 'aeiou':\n",
    "    print(\"character is a vowel\")\n",
    "    points+=5\n",
    "elif character in '0123456789':\n",
    "    print(\"character is a number\")\n",
    "    points+=10\n",
    "else:\n",
    "    print(\"character is not any of the above\")\n",
    "print(\"the total points are\",points)"
   ]
  },
  {
   "cell_type": "code",
   "execution_count": 33,
   "id": "76cf78e9-ed37-4cad-afc8-56bbea6b6959",
   "metadata": {},
   "outputs": [
    {
     "name": "stdin",
     "output_type": "stream",
     "text": [
      "enter the desired character: h\n"
     ]
    },
    {
     "name": "stdout",
     "output_type": "stream",
     "text": [
      "character is a lowercase letter\n"
     ]
    }
   ],
   "source": [
    "ch=input(\"enter the desired character:\")\n",
    "if ord(ch) in range(65,91):\n",
    "    print(\"character is an uppercase letter\")\n",
    "elif ord(ch) in range(97,123):\n",
    "    print(\"character is a lowercase letter\")\n",
    "else:\n",
    "    print(\"character is not a letter\")"
   ]
  },
  {
   "cell_type": "code",
   "execution_count": 17,
   "id": "7ebb8c39-3fa2-4ae5-a0a5-ee1c4dbb74ab",
   "metadata": {},
   "outputs": [
    {
     "name": "stdin",
     "output_type": "stream",
     "text": [
      "enter the value of a: 2\n",
      "enter the value of b: 34\n",
      "enter the value of c: 5\n"
     ]
    },
    {
     "name": "stdout",
     "output_type": "stream",
     "text": [
      "the roots are real and unique\n",
      "the total number of points is: 20\n"
     ]
    }
   ],
   "source": [
    "a=int(input(\"enter the value of a:\"))\n",
    "b=int(input(\"enter the value of b:\"))\n",
    "c=int(input(\"enter the value of c:\"))\n",
    "D=b**2-(4*a*c)\n",
    "points=0\n",
    "if D<0:\n",
    "    print(\"the roots are imaginary\")\n",
    "    points+=10\n",
    "elif D>0:\n",
    "    print(\"the roots are real and unique\")\n",
    "    points+=20\n",
    "else:\n",
    "    print(\"the roots are equal\")\n",
    "print(\"the total number of points is:\",points)"
   ]
  },
  {
   "cell_type": "code",
   "execution_count": 37,
   "id": "95a3d836-9a76-4713-843e-e4d85adf2f19",
   "metadata": {},
   "outputs": [
    {
     "name": "stdin",
     "output_type": "stream",
     "text": [
      "enter the weight of the user in kgs: 65\n",
      "enter the height of the user in m: 6444\n"
     ]
    },
    {
     "name": "stdout",
     "output_type": "stream",
     "text": [
      "the person is underweight\n"
     ]
    }
   ],
   "source": [
    "w=float(input(\"enter the weight of the user in kgs:\"))\n",
    "h=float(input(\"enter the height of the user in m:\"))\n",
    "bmi=w/(h**2)\n",
    "if bmi<18.5:\n",
    "    print(\"the person is underweight\")\n",
    "elif bmi>=18.5 and bmi<=24.9:\n",
    "    print(\"the person is at a normal weight\")\n",
    "elif bmi>=25:\n",
    "    print(\"the person is overweight\")\n",
    "else:\n",
    "    print(\"invalid\")"
   ]
  },
  {
   "cell_type": "code",
   "execution_count": 39,
   "id": "2c801a1d-a880-4fd9-8d10-d067dbcd033a",
   "metadata": {},
   "outputs": [
    {
     "name": "stdin",
     "output_type": "stream",
     "text": [
      "enter the x co-ordinate of the point: -76\n",
      "enter the y co-ordinate of the point: 77\n"
     ]
    },
    {
     "name": "stdout",
     "output_type": "stream",
     "text": [
      "the point is in the second quadrant\n"
     ]
    }
   ],
   "source": [
    "x=int(input(\"enter the x co-ordinate of the point:\"))\n",
    "y=int(input(\"enter the y co-ordinate of the point:\"))\n",
    "if x>0 and y>0:\n",
    "    print(\"the point is in the first quadrant\")\n",
    "elif x<0 and y>0:\n",
    "    print(\"the point is in the second quadrant\")\n",
    "elif x<0 and y<0:\n",
    "    print(\"the point is in the third quadrant\")\n",
    "else:\n",
    "    print(\"the point is in the fourth quadrant\")"
   ]
  },
  {
   "cell_type": "code",
   "execution_count": 41,
   "id": "ab7785fa-9ca2-42de-9089-3b6023a08cb1",
   "metadata": {},
   "outputs": [
    {
     "name": "stdin",
     "output_type": "stream",
     "text": [
      "enter the year: 2024\n"
     ]
    },
    {
     "name": "stdout",
     "output_type": "stream",
     "text": [
      "the year is a leap year\n"
     ]
    }
   ],
   "source": [
    "year=int(input(\"enter the year:\"))\n",
    "if year%4==0:\n",
    "    print(\"the year is a leap year\")\n",
    "else:\n",
    "    print(\"the year is not a leap year\")"
   ]
  },
  {
   "cell_type": "code",
   "execution_count": 43,
   "id": "6d75c1a0-1f2a-4a0c-b7ea-d354ece56d31",
   "metadata": {},
   "outputs": [
    {
     "name": "stdin",
     "output_type": "stream",
     "text": [
      "enter the amount spent by the user: 3444\n"
     ]
    },
    {
     "name": "stdout",
     "output_type": "stream",
     "text": [
      "the user gets 10% discount\n"
     ]
    }
   ],
   "source": [
    "amount=int(input(\"enter the amount spent by the user:\"))\n",
    "if amount>0 and amount<=1000:\n",
    "    print(\"the user gets 5% discount\")\n",
    "elif amount>1000 and amount<=5000:\n",
    "    print(\"the user gets 10% discount\")\n",
    "elif amount>5000 and amount<=10000:\n",
    "    print(\"the user gets 20% discount\")"
   ]
  },
  {
   "cell_type": "code",
   "execution_count": null,
   "id": "b84fd22d-4e18-4abb-b022-7dbf9c1c2cfc",
   "metadata": {},
   "outputs": [],
   "source": []
  }
 ],
 "metadata": {
  "kernelspec": {
   "display_name": "Python 3 (ipykernel)",
   "language": "python",
   "name": "python3"
  },
  "language_info": {
   "codemirror_mode": {
    "name": "ipython",
    "version": 3
   },
   "file_extension": ".py",
   "mimetype": "text/x-python",
   "name": "python",
   "nbconvert_exporter": "python",
   "pygments_lexer": "ipython3",
   "version": "3.12.4"
  }
 },
 "nbformat": 4,
 "nbformat_minor": 5
}
