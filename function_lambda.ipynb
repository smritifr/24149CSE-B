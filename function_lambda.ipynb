{
 "cells": [
  {
   "cell_type": "code",
   "execution_count": 29,
   "id": "1ad17c1e-ae7d-4bc8-9d23-9a56b15bd7df",
   "metadata": {},
   "outputs": [
    {
     "data": {
      "text/plain": [
       "10"
      ]
     },
     "execution_count": 29,
     "metadata": {},
     "output_type": "execute_result"
    }
   ],
   "source": [
    "def sum(a,b):\n",
    "    c=a+b\n",
    "    return c\n",
    "sum(3,7)"
   ]
  },
  {
   "cell_type": "code",
   "execution_count": 9,
   "id": "01d289e3-592a-41b2-a6da-7de6c59614af",
   "metadata": {},
   "outputs": [
    {
     "name": "stdout",
     "output_type": "stream",
     "text": [
      "hello john\n"
     ]
    }
   ],
   "source": [
    "def greet(name):\n",
    "    print(f\"hello {name}\")\n",
    "greet(\"john\")"
   ]
  },
  {
   "cell_type": "code",
   "execution_count": 1,
   "id": "b4847a91-70ca-48ac-8f8d-d7dcd78bc044",
   "metadata": {},
   "outputs": [
    {
     "name": "stdout",
     "output_type": "stream",
     "text": [
      "hello john, youre 30\n"
     ]
    }
   ],
   "source": [
    "def greet(**boobs):#variable parameters\n",
    "    name=boobs.get(\"name\",\"world\")\n",
    "    age=boobs.get(\"age\",30)\n",
    "    print(f\"hello {name}, youre {age}\")\n",
    "greet(name=\"john\")"
   ]
  },
  {
   "cell_type": "code",
   "execution_count": null,
   "id": "d0e99a8d-051f-4da6-ae50-4ce7443381e4",
   "metadata": {},
   "outputs": [],
   "source": [
    "name=input(\"enter your name:\")\n",
    "print(\"hi babe,\"name)"
   ]
  },
  {
   "cell_type": "code",
   "execution_count": 3,
   "id": "10557f56-2ab0-4996-adec-ad9cb9a6cebf",
   "metadata": {},
   "outputs": [
    {
     "name": "stdin",
     "output_type": "stream",
     "text": [
      "enter your name: babygworl\n"
     ]
    },
    {
     "name": "stdout",
     "output_type": "stream",
     "text": [
      "hi babe,babygworl\n",
      "the price is 1180\n"
     ]
    }
   ],
   "source": [
    "name=input(\"enter your name:\")\n",
    "print(f\"hi babe,{name}\")\n",
    "#{} is a placeholder\n",
    "#modifier: :.2f so {var:.2f}\n",
    "txt=f\"the price is {20*59}\"\n",
    "print(txt)"
   ]
  },
  {
   "cell_type": "code",
   "execution_count": 7,
   "id": "19f83294-a580-4fb7-9aeb-c2c5b252afb9",
   "metadata": {},
   "outputs": [
    {
     "name": "stdout",
     "output_type": "stream",
     "text": [
      "the price is 9.00\n"
     ]
    }
   ],
   "source": [
    "x=9\n",
    "print(f\"the price is {x:.2f}\")"
   ]
  },
  {
   "cell_type": "code",
   "execution_count": 13,
   "id": "43d78fd1-250b-40ad-8312-6000227ad82d",
   "metadata": {},
   "outputs": [
    {
     "name": "stdout",
     "output_type": "stream",
     "text": [
      "he is \"jhonny\"\n"
     ]
    }
   ],
   "source": [
    "print(\"he is \\\"jhonny\\\"\")#one before and one after."
   ]
  },
  {
   "cell_type": "code",
   "execution_count": 33,
   "id": "e67bf867-4bcc-4048-b6f5-e711b1480a48",
   "metadata": {},
   "outputs": [
    {
     "data": {
      "text/plain": [
       "'himynmae#$@'"
      ]
     },
     "execution_count": 33,
     "metadata": {},
     "output_type": "execute_result"
    }
   ],
   "source": [
    "\"hiMyNmae#$@\".casefold()#used to undo title() and capitalize mostly() but can do lower also"
   ]
  },
  {
   "cell_type": "code",
   "execution_count": 31,
   "id": "1d6c01cd-a49f-47fd-9df7-e4340642d889",
   "metadata": {},
   "outputs": [
    {
     "data": {
      "text/plain": [
       "'himynmae@&$'"
      ]
     },
     "execution_count": 31,
     "metadata": {},
     "output_type": "execute_result"
    }
   ],
   "source": [
    "\"hiMyNmae@&$\".lower()"
   ]
  },
  {
   "cell_type": "code",
   "execution_count": 1,
   "id": "6f01622a-2fd1-4796-a498-89927ada9ac0",
   "metadata": {},
   "outputs": [
    {
     "name": "stdout",
     "output_type": "stream",
     "text": [
      "5 * 1 = 5\n",
      "5 * 2 = 10\n",
      "5 * 3 = 15\n",
      "5 * 4 = 20\n",
      "5 * 5 = 25\n",
      "5 * 6 = 30\n",
      "5 * 7 = 35\n",
      "5 * 8 = 40\n",
      "5 * 9 = 45\n",
      "5 * 10 = 50\n",
      " \n",
      "6 * 1 = 6\n",
      "6 * 2 = 12\n",
      "6 * 3 = 18\n",
      "6 * 4 = 24\n",
      "6 * 5 = 30\n",
      "6 * 6 = 36\n",
      "6 * 7 = 42\n",
      "6 * 8 = 48\n",
      "6 * 9 = 54\n",
      "6 * 10 = 60\n",
      " \n"
     ]
    }
   ],
   "source": [
    "#program to display table of 5 and 6\n",
    "for i in range(5,7):\n",
    "    for j in range(1,11):\n",
    "        print(f\"{i} * {j} = {i*j}\")\n",
    "    print(\" \")"
   ]
  },
  {
   "cell_type": "code",
   "execution_count": 3,
   "id": "47cceb72-c3e8-4620-b919-acc11e3f40db",
   "metadata": {},
   "outputs": [
    {
     "name": "stdout",
     "output_type": "stream",
     "text": [
      "hello abc, youre 90\n"
     ]
    }
   ],
   "source": [
    "def greet(name='abc',age=90):\n",
    "    print(f\"hello {name}, youre {age}\")\n",
    "greet()"
   ]
  },
  {
   "cell_type": "code",
   "execution_count": 5,
   "id": "cee17124-e64b-45db-bb14-97142c8950e6",
   "metadata": {},
   "outputs": [
    {
     "name": "stdout",
     "output_type": "stream",
     "text": [
      "30\n"
     ]
    }
   ],
   "source": [
    "x=lambda a: a+10\n",
    "y=lambda b: b*2\n",
    "res=y(x(5))\n",
    "print(res)"
   ]
  },
  {
   "cell_type": "code",
   "execution_count": null,
   "id": "d0cbc2de-84d2-4ebb-979b-305659e0a18d",
   "metadata": {},
   "outputs": [],
   "source": []
  }
 ],
 "metadata": {
  "kernelspec": {
   "display_name": "Python 3 (ipykernel)",
   "language": "python",
   "name": "python3"
  },
  "language_info": {
   "codemirror_mode": {
    "name": "ipython",
    "version": 3
   },
   "file_extension": ".py",
   "mimetype": "text/x-python",
   "name": "python",
   "nbconvert_exporter": "python",
   "pygments_lexer": "ipython3",
   "version": "3.12.4"
  }
 },
 "nbformat": 4,
 "nbformat_minor": 5
}
