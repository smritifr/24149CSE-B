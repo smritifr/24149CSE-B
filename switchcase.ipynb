{
 "cells": [
  {
   "cell_type": "code",
   "execution_count": 18,
   "id": "11d1f753-f107-4942-b41d-f24f05cd193c",
   "metadata": {},
   "outputs": [
    {
     "name": "stdin",
     "output_type": "stream",
     "text": [
      "enter the agr 3\n"
     ]
    },
    {
     "name": "stdout",
     "output_type": "stream",
     "text": [
      "wooo\n"
     ]
    }
   ],
   "source": [
    "arg=int(input(\"enter the arg\"))\n",
    "def number_to_string(arg):\n",
    "    match arg:\n",
    "        case 0:\n",
    "            return\"zero\"\n",
    "        case 1:\n",
    "            return\"one\"\n",
    "        case 2:\n",
    "            return\"two\"\n",
    "        case _:\n",
    "            return\"wooo\"\n",
    "head=number_to_string(arg)\n",
    "print(head)"
   ]
  },
  {
   "cell_type": "code",
   "execution_count": 12,
   "id": "b362c803-5386-4e23-a98e-23f892eb4b89",
   "metadata": {},
   "outputs": [
    {
     "data": {
      "text/plain": [
       "str"
      ]
     },
     "execution_count": 12,
     "metadata": {},
     "output_type": "execute_result"
    }
   ],
   "source": [
    "type(head)"
   ]
  },
  {
   "cell_type": "code",
   "execution_count": 26,
   "id": "33ae3499-288b-48b4-8898-3e27d5edc23e",
   "metadata": {},
   "outputs": [
    {
     "name": "stdin",
     "output_type": "stream",
     "text": [
      "enter the arg 55\n"
     ]
    },
    {
     "name": "stdout",
     "output_type": "stream",
     "text": [
      "arg is 55\n"
     ]
    }
   ],
   "source": [
    "arg=int(input(\"enter the arg\"))\n",
    "print(f\"arg is {arg}\")"
   ]
  },
  {
   "cell_type": "code",
   "execution_count": null,
   "id": "46d0d8f2-3171-43d3-9e85-06a139629f90",
   "metadata": {},
   "outputs": [],
   "source": []
  }
 ],
 "metadata": {
  "kernelspec": {
   "display_name": "Python 3 (ipykernel)",
   "language": "python",
   "name": "python3"
  },
  "language_info": {
   "codemirror_mode": {
    "name": "ipython",
    "version": 3
   },
   "file_extension": ".py",
   "mimetype": "text/x-python",
   "name": "python",
   "nbconvert_exporter": "python",
   "pygments_lexer": "ipython3",
   "version": "3.12.4"
  }
 },
 "nbformat": 4,
 "nbformat_minor": 5
}
