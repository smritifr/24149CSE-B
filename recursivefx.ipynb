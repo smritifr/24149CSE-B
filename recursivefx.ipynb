{
 "cells": [
  {
   "cell_type": "code",
   "execution_count": 7,
   "id": "733f3964-9987-4987-b322-603b322cb375",
   "metadata": {},
   "outputs": [
    {
     "name": "stdout",
     "output_type": "stream",
     "text": [
      "120\n"
     ]
    }
   ],
   "source": [
    "def factorial(n):\n",
    "    if n==0 or n==1:\n",
    "        return 1\n",
    "    else:\n",
    "        return n*factorial(n-1)\n",
    "print(factorial(5))"
   ]
  },
  {
   "cell_type": "code",
   "execution_count": 17,
   "id": "27a2d37e-c06c-4351-af7b-52505efbcfef",
   "metadata": {},
   "outputs": [
    {
     "name": "stdout",
     "output_type": "stream",
     "text": [
      "21\n"
     ]
    }
   ],
   "source": [
    "#Sum of Natural Numbers\n",
    "def sum(n):\n",
    "    if n==0:\n",
    "        return 0\n",
    "    return n+sum(n-1)\n",
    "print(sum(6))"
   ]
  },
  {
   "cell_type": "code",
   "execution_count": 23,
   "id": "1698c8e3-9e46-4f9a-8a99-af20812beca4",
   "metadata": {},
   "outputs": [
    {
     "data": {
      "text/plain": [
       "8"
      ]
     },
     "execution_count": 23,
     "metadata": {},
     "output_type": "execute_result"
    }
   ],
   "source": [
    "#power of a num\n",
    "def power(x,y):\n",
    "    if y==0:\n",
    "        return 1\n",
    "    else:\n",
    "        return x*power(x,y-1)\n",
    "power(2,3)"
   ]
  },
  {
   "cell_type": "code",
   "execution_count": 1,
   "id": "eea2b490-523e-48e9-bb5c-3c0b5cd5b387",
   "metadata": {},
   "outputs": [
    {
     "data": {
      "text/plain": [
       "8"
      ]
     },
     "execution_count": 1,
     "metadata": {},
     "output_type": "execute_result"
    }
   ],
   "source": [
    "def fibonacci(n):\n",
    "    if n <= 1:\n",
    "        return n\n",
    "    else:\n",
    "        return fibonacci(n - 1) + fibonacci(n - 2)\n",
    "fibonacci(6)"
   ]
  },
  {
   "cell_type": "code",
   "execution_count": 49,
   "id": "0a1693a9-9d66-4d96-8f64-8aa56df23c2f",
   "metadata": {},
   "outputs": [
    {
     "name": "stdout",
     "output_type": "stream",
     "text": [
      "True\n"
     ]
    }
   ],
   "source": [
    "def is_palindrome(s):\n",
    "    if len(s) <= 1: #base case\n",
    "        return True\n",
    "    if s[0] != s[-1]:#base case but checks for index 0 and -1\n",
    "        return False\n",
    "    return is_palindrome(s[1:-1]) #recursive and excludes 0 and -1\n",
    "print(is_palindrome(\"racecar\"))"
   ]
  },
  {
   "cell_type": "code",
   "execution_count": 61,
   "id": "fd788209-1025-47de-94a7-2f7304d59639",
   "metadata": {},
   "outputs": [
    {
     "data": {
      "text/plain": [
       "str"
      ]
     },
     "execution_count": 61,
     "metadata": {},
     "output_type": "execute_result"
    }
   ],
   "source": [
    "n=6\n",
    "b=str(n)\n",
    "type(b)"
   ]
  },
  {
   "cell_type": "code",
   "execution_count": 95,
   "id": "f7f1025e-007f-4776-ae0c-91dbe315bc85",
   "metadata": {},
   "outputs": [
    {
     "name": "stdout",
     "output_type": "stream",
     "text": [
      "1010\n"
     ]
    }
   ],
   "source": [
    "def decimal_to_binary(n):\n",
    "    if n == 0:\n",
    "        return \"\"\n",
    "    return decimal_to_binary(n // 2) + str(n % 2) \n",
    "print(decimal_to_binary(10))"
   ]
  },
  {
   "cell_type": "code",
   "execution_count": 85,
   "id": "0d06d586-faf1-4673-8d72-32bf41773d78",
   "metadata": {},
   "outputs": [
    {
     "data": {
      "text/plain": [
       "0"
      ]
     },
     "execution_count": 85,
     "metadata": {},
     "output_type": "execute_result"
    }
   ],
   "source": [
    "0//2"
   ]
  },
  {
   "cell_type": "code",
   "execution_count": 11,
   "id": "ff44bb8b-cccd-458c-b741-3c73f7f98f4f",
   "metadata": {},
   "outputs": [
    {
     "name": "stdout",
     "output_type": "stream",
     "text": [
      "4\n"
     ]
    }
   ],
   "source": [
    "#gcd of 2 numbs\n",
    "def gcd(a,b):\n",
    "    if b==0:\n",
    "        return a \n",
    "    else:\n",
    "        return gcd(b,a%b)\n",
    "print(gcd(12,32))"
   ]
  },
  {
   "cell_type": "code",
   "execution_count": 5,
   "id": "d5e9e9e4-afa7-42ff-8f9a-49334670c739",
   "metadata": {},
   "outputs": [
    {
     "name": "stdout",
     "output_type": "stream",
     "text": [
      "14\n"
     ]
    }
   ],
   "source": [
    "#sum of n digits of a number\n",
    "def sum(n):\n",
    "    if n == 0:\n",
    "        return 0\n",
    "    else:\n",
    "        return sum(n//10)+(n%10)\n",
    "print(sum(5432))"
   ]
  },
  {
   "cell_type": "code",
   "execution_count": 21,
   "id": "304006ee-7b9b-4c97-a0c1-ed6a42c54339",
   "metadata": {},
   "outputs": [
    {
     "name": "stdout",
     "output_type": "stream",
     "text": [
      "24\n"
     ]
    }
   ],
   "source": [
    "#prod of array elements\n",
    "def prodarray(array,n):\n",
    "    if n==0:\n",
    "        return array[0]\n",
    "    else:\n",
    "        return array[n]*prodarray(array,n-1)\n",
    "print(prodarray([1,2,3,4],3))"
   ]
  },
  {
   "cell_type": "code",
   "execution_count": 32,
   "id": "96b34013-e362-4de8-84e4-30175eb2198f",
   "metadata": {},
   "outputs": [
    {
     "name": "stdout",
     "output_type": "stream",
     "text": [
      "True\n"
     ]
    }
   ],
   "source": [
    "def is_sorted(array,n):\n",
    "    if n==1:\n",
    "        return True\n",
    "    return array[n-1]>=array[n-2]\n",
    "    return is_sorted(array,n-1)\n",
    "print(is_sorted([1,2,3,4],4))"
   ]
  },
  {
   "cell_type": "code",
   "execution_count": 1,
   "id": "9351cf66-3a60-4807-87d0-ac6bf8c5cf3d",
   "metadata": {},
   "outputs": [
    {
     "name": "stdout",
     "output_type": "stream",
     "text": [
      "[[], [3], [2], [2, 3], [1], [1, 3], [1, 2], [1, 2, 3]]\n"
     ]
    }
   ],
   "source": [
    "def subsets(s):\n",
    "    if len(s) == 0:\n",
    "        return [[]]\n",
    "    smaller_subsets = subsets(s[1:])\n",
    "    return smaller_subsets + [[s[0]] + ss for ss in smaller_subsets]\n",
    "print(subsets([1, 2, 3]))"
   ]
  },
  {
   "cell_type": "code",
   "execution_count": 3,
   "id": "e15b3a30-f9af-4e8c-915b-cdacf6562575",
   "metadata": {},
   "outputs": [
    {
     "name": "stdout",
     "output_type": "stream",
     "text": [
      "[3, 4, 5, 1, 2]\n"
     ]
    }
   ],
   "source": [
    "#left shift\n",
    "L=[1,2,3,4,5]\n",
    "def rotate_left(L,n):\n",
    "    if not L:\n",
    "        return L\n",
    "    n=n%len(L)\n",
    "    return L[n:]+L[:n]\n",
    "print(rotate_left(L,2))"
   ]
  },
  {
   "cell_type": "code",
   "execution_count": 1,
   "id": "8c6d6bc1-807c-4027-8537-9f2ed019aebb",
   "metadata": {},
   "outputs": [
    {
     "name": "stdout",
     "output_type": "stream",
     "text": [
      "[4, 5, 1, 2, 3]\n"
     ]
    }
   ],
   "source": [
    "#right shift\n",
    "L=[1,2,3,4,5]\n",
    "def rotate_right(L,n):\n",
    "    if not L:\n",
    "        return L\n",
    "    n=n%len(L)\n",
    "    return L[-n:]+L[:-n]\n",
    "print(rotate_right(L,2))"
   ]
  },
  {
   "cell_type": "code",
   "execution_count": null,
   "id": "d3bdf77d-8c5e-4173-a452-64ab58f68324",
   "metadata": {},
   "outputs": [],
   "source": []
  }
 ],
 "metadata": {
  "kernelspec": {
   "display_name": "Python 3 (ipykernel)",
   "language": "python",
   "name": "python3"
  },
  "language_info": {
   "codemirror_mode": {
    "name": "ipython",
    "version": 3
   },
   "file_extension": ".py",
   "mimetype": "text/x-python",
   "name": "python",
   "nbconvert_exporter": "python",
   "pygments_lexer": "ipython3",
   "version": "3.12.4"
  }
 },
 "nbformat": 4,
 "nbformat_minor": 5
}
