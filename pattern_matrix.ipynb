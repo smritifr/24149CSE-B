{
 "cells": [
  {
   "cell_type": "code",
   "execution_count": 35,
   "id": "ea4ec4af-41b2-4a47-9b3a-031c1483e691",
   "metadata": {},
   "outputs": [
    {
     "name": "stdout",
     "output_type": "stream",
     "text": [
      " \n",
      "1  \n",
      "2 2  \n",
      "3 3 3  \n",
      "4 4 4 4  \n"
     ]
    }
   ],
   "source": [
    "#1\n",
    "row=5\n",
    "for num in range(row):\n",
    "    for i in range(num):\n",
    "        print (num,end=\" \")\n",
    "    print(\" \")"
   ]
  },
  {
   "cell_type": "code",
   "execution_count": 3,
   "id": "565241da-7ad7-4b9c-9ca4-6c70aa9f6b23",
   "metadata": {},
   "outputs": [
    {
     "name": "stdout",
     "output_type": "stream",
     "text": [
      "1 1 1 1 1  \n",
      "2 2 2 2  \n",
      "3 3 3  \n",
      "4 4  \n",
      "5  \n"
     ]
    }
   ],
   "source": [
    "#2\n",
    "row=5\n",
    "b=0\n",
    "for i in range(row,0,-1):\n",
    "    b+=1\n",
    "    for j in range(i):\n",
    "        print(b,end=\" \")\n",
    "    print(\" \")"
   ]
  },
  {
   "cell_type": "code",
   "execution_count": 17,
   "id": "56cd0aca-341c-4745-950a-ebc045480e82",
   "metadata": {},
   "outputs": [
    {
     "name": "stdout",
     "output_type": "stream",
     "text": [
      "1  \n",
      "1 2  \n",
      "1 2 3  \n",
      "1 2 3 4  \n",
      "1 2 3 4 5  \n"
     ]
    }
   ],
   "source": [
    "#3\n",
    "num=6\n",
    "for i in range(1,num):\n",
    "    for j in range(1,i+1):\n",
    "        print(j,end=\" \")\n",
    "    print(\" \")"
   ]
  },
  {
   "cell_type": "code",
   "execution_count": 23,
   "id": "0e9cb256-abd0-4fca-941c-5f0593295a98",
   "metadata": {},
   "outputs": [
    {
     "name": "stdout",
     "output_type": "stream",
     "text": [
      "5 5 5 5 5  \n",
      "4 4 4 4  \n",
      "3 3 3  \n",
      "2 2  \n",
      "1  \n"
     ]
    }
   ],
   "source": [
    "#4\n",
    "num=5\n",
    "for i in range(num,0,-1):\n",
    "    for j in range(i,0,-1):\n",
    "        print(num,end=\" \")\n",
    "    num-=1\n",
    "    print(\" \")"
   ]
  },
  {
   "cell_type": "code",
   "execution_count": 25,
   "id": "870f5add-9ea4-4668-96db-90ff877819ac",
   "metadata": {},
   "outputs": [
    {
     "name": "stdout",
     "output_type": "stream",
     "text": [
      "1  \n",
      "2 1  \n",
      "3 2 1  \n",
      "4 3 2 1  \n",
      "5 4 3 2 1  \n"
     ]
    }
   ],
   "source": [
    "#5\n",
    "num=6\n",
    "for i in range(1,num):\n",
    "    for j in range(i,0,-1):\n",
    "        print(j,end=\" \")\n",
    "    print(\" \")   "
   ]
  },
  {
   "cell_type": "code",
   "execution_count": 31,
   "id": "7f6017e2-062c-4666-a4c4-b969b9f58b0b",
   "metadata": {},
   "outputs": [
    {
     "name": "stdout",
     "output_type": "stream",
     "text": [
      "0 1 2 3 4 5  \n",
      "0 1 2 3 4  \n",
      "0 1 2 3  \n",
      "0 1 2  \n",
      "0 1  \n",
      "0  \n"
     ]
    }
   ],
   "source": [
    "#6\n",
    "num=6\n",
    "for i in range(num):\n",
    "    for j in range(num):\n",
    "        print(j,end=\" \")\n",
    "    num-=1\n",
    "    print(\" \")"
   ]
  },
  {
   "cell_type": "code",
   "execution_count": 65,
   "id": "1649dc44-6a3c-4e85-9f14-1696e14ea9a2",
   "metadata": {},
   "outputs": [
    {
     "name": "stdout",
     "output_type": "stream",
     "text": [
      "1  \n",
      "2 3 4  \n",
      "5 6 7 8 9  \n"
     ]
    }
   ],
   "source": [
    "#7\n",
    "num=10\n",
    "a=1\n",
    "for i in range(1,num-4,2):#3 #5\n",
    "    for j in range(1,i+1):#1,4 #1,6\n",
    "        print(a,end=\" \")\n",
    "        a+=1\n",
    "    print(\" \")"
   ]
  },
  {
   "cell_type": "code",
   "execution_count": 29,
   "id": "125593f9-d425-4b91-993d-fbd5d34b6142",
   "metadata": {},
   "outputs": [
    {
     "name": "stdout",
     "output_type": "stream",
     "text": [
      "    1 \n",
      "   12 \n",
      "  123 \n",
      " 1234 \n",
      "12345 \n"
     ]
    }
   ],
   "source": [
    "#8\n",
    "n = 5\n",
    "for i in range(1, n + 1):\n",
    "    print(\" \" * (n - i), end=\"\")\n",
    "    for j in range(1, i + 1):\n",
    "        print(j, end=\"\")\n",
    "    print(\" \")"
   ]
  },
  {
   "cell_type": "code",
   "execution_count": 39,
   "id": "9ef252d2-08e4-479e-9dd2-92e9de8172aa",
   "metadata": {},
   "outputs": [
    {
     "name": "stdout",
     "output_type": "stream",
     "text": [
      "[8, 5]\n"
     ]
    }
   ],
   "source": [
    "#matrix addition\n",
    "a=[[3,4]]\n",
    "b=[[5,1]]\n",
    "c=[[0,0]]\n",
    "d=[]\n",
    "for i in range(len(a)):\n",
    "    for j in range(len(a[0])):\n",
    "        c[i][j]=a[i][j]+b[i][j]\n",
    "        d.append(c[i][j])\n",
    "print(d)"
   ]
  },
  {
   "cell_type": "code",
   "execution_count": 41,
   "id": "8e3a734f-60a2-4ad3-b267-eda601029fbe",
   "metadata": {},
   "outputs": [
    {
     "name": "stdout",
     "output_type": "stream",
     "text": [
      "[-2, 3]\n"
     ]
    }
   ],
   "source": [
    "#matrix subt\n",
    "a=[[3,4]]\n",
    "b=[[5,1]]\n",
    "c=[[0,0]]\n",
    "d=[]\n",
    "for i in range(len(a)):\n",
    "    for j in range(len(a[0])):\n",
    "        c[i][j]=a[i][j]-b[i][j]\n",
    "        d.append(c[i][j])\n",
    "print(d)"
   ]
  },
  {
   "cell_type": "code",
   "execution_count": 43,
   "id": "096ddefc-9ead-419c-9679-e12a46311d13",
   "metadata": {},
   "outputs": [
    {
     "name": "stdout",
     "output_type": "stream",
     "text": [
      "[12, 24]\n"
     ]
    }
   ],
   "source": [
    "#matrix scalar multi\n",
    "k=3\n",
    "a=[4,8]\n",
    "b=[0,0]\n",
    "c=[]\n",
    "for i in range(len(a)):\n",
    "    b[i]=k*a[i]\n",
    "    c.append(b[i])\n",
    "print(c)"
   ]
  },
  {
   "cell_type": "code",
   "execution_count": 45,
   "id": "b2197d21-1c28-41e1-955d-7c41f30278b6",
   "metadata": {},
   "outputs": [
    {
     "name": "stdout",
     "output_type": "stream",
     "text": [
      "[2, 6]\n"
     ]
    }
   ],
   "source": [
    "#matrix multi 1x1\n",
    "a=[[1,2]]\n",
    "b=[[2,3]]\n",
    "c=[[0,0]]\n",
    "d=[]\n",
    "for i in range(len(a)):\n",
    "    for j in range(len(a[0])):\n",
    "        c[i][j]=a[i][j]*b[i][j]\n",
    "        d.append(c[i][j])\n",
    "    print(d)"
   ]
  },
  {
   "cell_type": "code",
   "execution_count": 47,
   "id": "914d599f-e1dd-4338-a53a-17a50652229b",
   "metadata": {},
   "outputs": [
    {
     "name": "stdout",
     "output_type": "stream",
     "text": [
      "[2, 6, 15, 24]\n"
     ]
    }
   ],
   "source": [
    "#matrix multi\n",
    "a=[[1,2],[3,4]]\n",
    "b=[[2,3],[5,6]]\n",
    "c=[[0,0],[0,0]]\n",
    "d=[]\n",
    "for i in range(len(a)):#(0,2)\n",
    "    for j in range(len(a[0])):#(0,2)\n",
    "        c[i][j]=a[i][j]*b[i][j]\n",
    "        d.append(c[i][j])\n",
    "print(d)"
   ]
  },
  {
   "cell_type": "code",
   "execution_count": 1,
   "id": "70d34571-1a6e-4e46-95ff-67daaec401f7",
   "metadata": {},
   "outputs": [
    {
     "name": "stdin",
     "output_type": "stream",
     "text": [
      " 34.6\n"
     ]
    }
   ],
   "source": [
    "n=float(input())"
   ]
  },
  {
   "cell_type": "code",
   "execution_count": 9,
   "id": "6f18254c-1bce-41b1-b052-d5df6fa6ad6a",
   "metadata": {},
   "outputs": [
    {
     "name": "stdout",
     "output_type": "stream",
     "text": [
      "[[8, 5]]\n"
     ]
    }
   ],
   "source": [
    "#matrix addition\n",
    "a=[[3,4]]\n",
    "b=[[5,1]]\n",
    "d=[[0,0]]\n",
    "for i in range(len(a)):\n",
    "    for j in range(len(a[0])):\n",
    "        d[i][j]=a[i][j]+b[i][j]\n",
    "print(d)"
   ]
  },
  {
   "cell_type": "code",
   "execution_count": 57,
   "id": "4db00956-8d2f-4e8a-ad95-801e745c5bce",
   "metadata": {},
   "outputs": [
    {
     "name": "stdout",
     "output_type": "stream",
     "text": [
      "[[12, 24], [9, 18]]\n"
     ]
    }
   ],
   "source": [
    "#matrix scalar multi\n",
    "k=3\n",
    "a=[[4,8],[3,6]]\n",
    "b=[[0,0],[0,0]]\n",
    "for i in range(len(a)):\n",
    "    for j in range(len(a[0])):\n",
    "        b[i][j]=k*a[i][j]\n",
    "print(b)"
   ]
  },
  {
   "cell_type": "code",
   "execution_count": 64,
   "id": "9614ccc9-a728-4e2b-bcd0-aa2b11971193",
   "metadata": {},
   "outputs": [
    {
     "name": "stdout",
     "output_type": "stream",
     "text": [
      "[2, 6]\n"
     ]
    }
   ],
   "source": [
    "#matrix multi 1x1\n",
    "a=[1,2]\n",
    "b=[2,3]\n",
    "c=[0,0]\n",
    "for i in range(len(a)):\n",
    "        c[i]=a[i]*b[i]\n",
    "print(c)"
   ]
  },
  {
   "cell_type": "code",
   "execution_count": 68,
   "id": "335ef807-cd71-4428-8d7f-c280071d7fb5",
   "metadata": {},
   "outputs": [
    {
     "name": "stdout",
     "output_type": "stream",
     "text": [
      "[[4, 3], [8, 6]]\n"
     ]
    }
   ],
   "source": [
    "#matrix transpose\n",
    "a=[[4,8],[3,6]]\n",
    "b=[[0,0],[0,0]]\n",
    "for i in range(len(a)):\n",
    "    for j in range(len(a[0])):\n",
    "        b[i][j]=a[j][i]\n",
    "print(b)"
   ]
  },
  {
   "cell_type": "code",
   "execution_count": 72,
   "id": "ec954194-5936-4c4d-852f-ca078356501c",
   "metadata": {},
   "outputs": [
    {
     "name": "stdout",
     "output_type": "stream",
     "text": [
      "[[2, 6], [15, 24]]\n"
     ]
    }
   ],
   "source": [
    "#matrix multi\n",
    "a=[[1,2],[3,4]]\n",
    "b=[[2,3],[5,6]]\n",
    "c=[[0,0],[0,0]]\n",
    "d=[]\n",
    "for i in range(len(a)):#(0,2)\n",
    "    for j in range(len(a[0])):#(0,2)\n",
    "        c[i][j]=a[i][j]*b[i][j]\n",
    "print(c)"
   ]
  },
  {
   "cell_type": "code",
   "execution_count": 5,
   "id": "72d90ea0-744b-4461-886a-6d6e39d3d5d7",
   "metadata": {},
   "outputs": [
    {
     "name": "stdout",
     "output_type": "stream",
     "text": [
      "1  \n",
      "2 3 4  \n",
      "5 6 7 8 9  \n"
     ]
    }
   ],
   "source": [
    "#7\n",
    "num=10\n",
    "a=1\n",
    "for i in range(1,num-4,2):#3 #5\n",
    "    for j in range(i):#1,4 #1,6\n",
    "        print(a,end=\" \")\n",
    "        a+=1\n",
    "    print(\" \")"
   ]
  },
  {
   "cell_type": "code",
   "execution_count": 31,
   "id": "c0097235-a5fc-46dc-9c87-08f328202924",
   "metadata": {},
   "outputs": [
    {
     "name": "stdout",
     "output_type": "stream",
     "text": [
      "1 2 3 4  \n",
      "1 2 3 4  \n",
      "1 2 3 4  \n",
      "1 2 3 4  \n",
      "1 2 3 4  \n"
     ]
    }
   ],
   "source": [
    "#square\n",
    "n=5\n",
    "for i in range(n):\n",
    "    for j in range(1,n):\n",
    "        print(j,end=\" \")\n",
    "    print(\" \")"
   ]
  },
  {
   "cell_type": "code",
   "execution_count": 41,
   "id": "5fee30b6-6a3c-4527-83c0-5fa1d83ca58a",
   "metadata": {},
   "outputs": [
    {
     "name": "stdout",
     "output_type": "stream",
     "text": [
      "  1 \n",
      " 2 2 2 \n",
      "3 3 3 3 3 \n"
     ]
    }
   ],
   "source": [
    "n = 3\n",
    "for i in range(1, n + 1):\n",
    "    for j in range(n - i):\n",
    "        print(\" \", end=\"\")\n",
    "    for j in range(2 * i - 1):\n",
    "        print(i, end=\" \")\n",
    "    print()"
   ]
  },
  {
   "cell_type": "code",
   "execution_count": 47,
   "id": "92f92b52-2922-40a0-bb75-0dd6ff86c93e",
   "metadata": {},
   "outputs": [
    {
     "name": "stdout",
     "output_type": "stream",
     "text": [
      "[[0, 0, 0, 0, 0, 0, 0, 0, 0], [0, 0, 0, 0, 0, 0, 0, 0, 0], [0, 0, 0, 0, 0, 0, 0, 0, 0]]\n"
     ]
    }
   ],
   "source": [
    "row=3\n",
    "col=3\n",
    "m=[]\n",
    "l=[]\n",
    "for i in range(row):\n",
    "    for j in range(col):\n",
    "        l.append(0)\n",
    "    m.append(l)\n",
    "print(m)"
   ]
  },
  {
   "cell_type": "code",
   "execution_count": 57,
   "id": "19781a14-3ec5-405e-aab7-fe73dccc0c6e",
   "metadata": {},
   "outputs": [
    {
     "name": "stdout",
     "output_type": "stream",
     "text": [
      "[[9, 2, 6], [7, 4, 2], [7, 1, 1]]\n"
     ]
    }
   ],
   "source": [
    "import random\n",
    "rows=3\n",
    "cols=3\n",
    "m=[]\n",
    "for i in range(rows):\n",
    "    row=[]\n",
    "    for j in range(cols):\n",
    "        row.append(random.randint(1,10))\n",
    "    m.append(row)\n",
    "print(m)"
   ]
  },
  {
   "cell_type": "code",
   "execution_count": null,
   "id": "eb51e1bd-ac6c-4d7b-9cd0-2682b373aea5",
   "metadata": {},
   "outputs": [],
   "source": []
  }
 ],
 "metadata": {
  "kernelspec": {
   "display_name": "Python 3 (ipykernel)",
   "language": "python",
   "name": "python3"
  },
  "language_info": {
   "codemirror_mode": {
    "name": "ipython",
    "version": 3
   },
   "file_extension": ".py",
   "mimetype": "text/x-python",
   "name": "python",
   "nbconvert_exporter": "python",
   "pygments_lexer": "ipython3",
   "version": "3.12.4"
  }
 },
 "nbformat": 4,
 "nbformat_minor": 5
}
