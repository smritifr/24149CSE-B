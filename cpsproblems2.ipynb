{
 "cells": [
  {
   "cell_type": "code",
   "execution_count": 1,
   "id": "eb511edd-a2dd-476d-b211-7a271557abd7",
   "metadata": {},
   "outputs": [
    {
     "name": "stdin",
     "output_type": "stream",
     "text": [
      "enter the number you want to check: 33\n"
     ]
    },
    {
     "name": "stdout",
     "output_type": "stream",
     "text": [
      "number is not divisible by 7\n"
     ]
    }
   ],
   "source": [
    "number=int(input(\"enter the number you want to check:\"))\n",
    "if (number%7==0):\n",
    "    print(\"the number is divisible by 7\")\n",
    "else:\n",
    "    print(\"number is not divisible by 7\")"
   ]
  },
  {
   "cell_type": "code",
   "execution_count": 3,
   "id": "d6e6928a-beab-4894-8d19-16e4fd9e4363",
   "metadata": {},
   "outputs": [
    {
     "name": "stdin",
     "output_type": "stream",
     "text": [
      "enter the number you want to check: 56\n"
     ]
    },
    {
     "name": "stdout",
     "output_type": "stream",
     "text": [
      "the number is not divisible by both\n"
     ]
    }
   ],
   "source": [
    "number=int(input(\"enter the number you want to check:\"))\n",
    "if number%5==0 and number%7==0:\n",
    "    print(\"the number is divisible by both 5 and 7\")\n",
    "else:\n",
    "    print(\"the number is not divisible by both\")"
   ]
  },
  {
   "cell_type": "code",
   "execution_count": 4,
   "id": "c481ba2c-70f7-4090-8cff-78f43e652b67",
   "metadata": {},
   "outputs": [
    {
     "name": "stdin",
     "output_type": "stream",
     "text": [
      "enter the first num: 3\n",
      "enter the second num: 4\n"
     ]
    },
    {
     "name": "stdout",
     "output_type": "stream",
     "text": [
      "the sum of both numbers is: 7\n"
     ]
    }
   ],
   "source": [
    "x=int(input(\"enter the first num:\"))\n",
    "y=int(input(\"enter the second num:\"))\n",
    "z=x+y\n",
    "print(\"the sum of both numbers is:\",z)"
   ]
  },
  {
   "cell_type": "code",
   "execution_count": 5,
   "id": "7ee0aa51-24a4-40d3-9b9b-3ab571cec845",
   "metadata": {},
   "outputs": [
    {
     "name": "stdin",
     "output_type": "stream",
     "text": [
      "enter the first num: 4\n",
      "enter the second num: 2\n",
      "enter the third num: 77\n"
     ]
    },
    {
     "name": "stdout",
     "output_type": "stream",
     "text": [
      "the sum of three numbers is : 83\n"
     ]
    }
   ],
   "source": [
    "x=int(input(\"enter the first num:\"))\n",
    "y=int(input(\"enter the second num:\"))\n",
    "z=int(input(\"enter the third num:\"))\n",
    "w=x+y+z\n",
    "print(\"the sum of three numbers is :\",w)"
   ]
  },
  {
   "cell_type": "code",
   "execution_count": 6,
   "id": "37a1d89e-9695-4c58-a340-3847271679ed",
   "metadata": {},
   "outputs": [
    {
     "name": "stdin",
     "output_type": "stream",
     "text": [
      "enter the length of the side of the square: 4\n"
     ]
    },
    {
     "name": "stdout",
     "output_type": "stream",
     "text": [
      "the area of the square is: 16\n"
     ]
    }
   ],
   "source": [
    "side=int(input(\"enter the length of the side of the square:\"))\n",
    "area=side**2\n",
    "print(\"the area of the square is:\",area)"
   ]
  },
  {
   "cell_type": "code",
   "execution_count": 7,
   "id": "57df701b-9e4b-4659-9aa1-f68de2851165",
   "metadata": {},
   "outputs": [
    {
     "name": "stdin",
     "output_type": "stream",
     "text": [
      "enter the length of the rectangle: 4\n",
      "enter the breadth of the rectangle: 75\n"
     ]
    },
    {
     "name": "stdout",
     "output_type": "stream",
     "text": [
      "the area of the rectangle is: 300\n"
     ]
    }
   ],
   "source": [
    "l=int(input(\"enter the length of the rectangle:\"))\n",
    "b=int(input(\"enter the breadth of the rectangle:\"))\n",
    "area=l*b\n",
    "print(\"the area of the rectangle is:\",area)\n"
   ]
  },
  {
   "cell_type": "code",
   "execution_count": 8,
   "id": "6f7f0f3e-b35b-47e5-acbd-6613e2a319a7",
   "metadata": {},
   "outputs": [
    {
     "name": "stdin",
     "output_type": "stream",
     "text": [
      "enter the radius of the circle: 3\n"
     ]
    },
    {
     "name": "stdout",
     "output_type": "stream",
     "text": [
      "the area of the circle is: 28.26\n"
     ]
    }
   ],
   "source": [
    "radius=int(input(\"enter the radius of the circle:\"))\n",
    "area=3.14*radius**2\n",
    "print(\"the area of the circle is:\",area)"
   ]
  },
  {
   "cell_type": "code",
   "execution_count": 9,
   "id": "b27c8184-9e3c-41ea-a470-005c7f017a32",
   "metadata": {},
   "outputs": [
    {
     "name": "stdin",
     "output_type": "stream",
     "text": [
      "enter the value of a: 3\n",
      "enter the value of b: 5\n",
      "enter the value of c: 2\n"
     ]
    },
    {
     "name": "stdout",
     "output_type": "stream",
     "text": [
      "the discriminant is: 1\n"
     ]
    }
   ],
   "source": [
    "a=int(input(\"enter the value of a:\"))\n",
    "b=int(input(\"enter the value of b:\"))\n",
    "c=int(input(\"enter the value of c:\"))\n",
    "D=b**2-(4*a*c)\n",
    "print(\"the discriminant is:\",D)"
   ]
  },
  {
   "cell_type": "code",
   "execution_count": 1,
   "id": "4fe6be43-3b95-42ee-a514-75ce6ac7d817",
   "metadata": {},
   "outputs": [
    {
     "name": "stdin",
     "output_type": "stream",
     "text": [
      "enter the rate per hour: 33\n",
      "enter the number of hours per week: 23\n"
     ]
    },
    {
     "name": "stdout",
     "output_type": "stream",
     "text": [
      "the monthly pay of the finance employees is: 3036\n"
     ]
    }
   ],
   "source": [
    "#monthly pay\n",
    "no_of_weeks_in_a_month=4\n",
    "rate_per_hr=int(input(\"enter the rate per hour:\"))\n",
    "no_of_hrs_worked_in_week=int(input(\"enter the number of hours per week:\"))\n",
    "monthly_pay=no_of_hrs_worked_in_week*rate_per_hr*no_of_weeks_in_a_month\n",
    "print(\"the monthly pay of the finance employees is:\",monthly_pay)"
   ]
  },
  {
   "cell_type": "code",
   "execution_count": 3,
   "id": "2a33cd45-84d0-4200-b1c1-322f278e4bd4",
   "metadata": {},
   "outputs": [
    {
     "name": "stdin",
     "output_type": "stream",
     "text": [
      "enter the distance between delhi and mumbai: 566\n",
      "enter the cost of 1 litre of fuel: 54\n",
      "distance that can be covered by 1 litre of fuel: 654\n",
      "enter the velocity maintained through the journey: 3\n"
     ]
    },
    {
     "name": "stdout",
     "output_type": "stream",
     "text": [
      "the fuel cost through the journey is  46.73394495412844 and time taken is  188.66666666666666\n"
     ]
    }
   ],
   "source": [
    "#rahuls costs\n",
    "dist=float(input(\"enter the distance between delhi and mumbai:\"))\n",
    "cost=float(input(\"enter the cost of 1 litre of fuel:\"))\n",
    "fuel_dist=float(input(\"distance that can be covered by 1 litre of fuel:\"))\n",
    "speed=float(input(\"enter the velocity maintained through the journey:\"))\n",
    "fuel_cost=(dist/fuel_dist)*cost\n",
    "time=dist/speed\n",
    "print(\"the fuel cost through the journey is \",fuel_cost,\"and time taken is \",time)"
   ]
  },
  {
   "cell_type": "code",
   "execution_count": 5,
   "id": "4aa1c425-ae37-4134-bc2a-380df0b5656d",
   "metadata": {},
   "outputs": [
    {
     "name": "stdin",
     "output_type": "stream",
     "text": [
      "enter the temp in farenheit: 555\n"
     ]
    },
    {
     "name": "stdout",
     "output_type": "stream",
     "text": [
      "temp is celcius is: 290.55555555555554\n"
     ]
    }
   ],
   "source": [
    "farenheit=float(input(\"enter the temp in farenheit:\"))\n",
    "celcius=(farenheit-32)*(5/9)\n",
    "print(\"temp is celcius is:\",celcius)"
   ]
  },
  {
   "cell_type": "code",
   "execution_count": 7,
   "id": "0c6499f0-3e85-48c4-a09a-2af09beb9fe6",
   "metadata": {},
   "outputs": [
    {
     "name": "stdin",
     "output_type": "stream",
     "text": [
      "enter the time in seconds: 553\n"
     ]
    },
    {
     "name": "stdout",
     "output_type": "stream",
     "text": [
      "the given time in minutes is: 9.216666666666667\n",
      "the given time in hrs is: 0.15361111111111111\n"
     ]
    }
   ],
   "source": [
    "#secs to hrs,mins\n",
    "time_secs=int(input(\"enter the time in seconds:\"))\n",
    "time_mins= time_secs/60\n",
    "time_hrs= time_secs/(60*60)\n",
    "print(\"the given time in minutes is:\",time_mins)\n",
    "print(\"the given time in hrs is:\",time_hrs)"
   ]
  },
  {
   "cell_type": "code",
   "execution_count": 13,
   "id": "8420bd81-8067-4a2c-b573-0889d7ea80a6",
   "metadata": {},
   "outputs": [
    {
     "name": "stdin",
     "output_type": "stream",
     "text": [
      "enter a 3\n"
     ]
    },
    {
     "name": "stdout",
     "output_type": "stream",
     "text": [
      "1\n",
      "[1]\n"
     ]
    }
   ],
   "source": [
    "a=int(input(\"enter a\"))\n",
    "#b=int(input(\"enter b\"))\n",
    "i=1\n",
    "l=[]\n",
    "for i in range(1,a+1):\n",
    "    if a%i==0:\n",
    "        print(i)\n",
    "        a=a/i\n",
    "        l.append(i)\n",
    "        i+=1\n",
    "        print(l)\n",
    "    else:\n",
    "        break"
   ]
  },
  {
   "cell_type": "code",
   "execution_count": null,
   "id": "78600ff1-4bbd-4127-9045-de1d9662978a",
   "metadata": {},
   "outputs": [],
   "source": []
  }
 ],
 "metadata": {
  "kernelspec": {
   "display_name": "Python 3 (ipykernel)",
   "language": "python",
   "name": "python3"
  },
  "language_info": {
   "codemirror_mode": {
    "name": "ipython",
    "version": 3
   },
   "file_extension": ".py",
   "mimetype": "text/x-python",
   "name": "python",
   "nbconvert_exporter": "python",
   "pygments_lexer": "ipython3",
   "version": "3.12.4"
  }
 },
 "nbformat": 4,
 "nbformat_minor": 5
}
