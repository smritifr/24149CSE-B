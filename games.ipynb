{
 "cells": [
  {
   "cell_type": "code",
   "execution_count": 1,
   "id": "0a37dab9-cd45-4fde-b7f9-0dc2a938b1c1",
   "metadata": {},
   "outputs": [
    {
     "name": "stdin",
     "output_type": "stream",
     "text": [
      "enter your choice 1 or 2 or 3 or 4: 3\n"
     ]
    },
    {
     "name": "stdout",
     "output_type": "stream",
     "text": [
      "Deposit Money\n"
     ]
    }
   ],
   "source": [
    "choice=int(input(\"enter your choice 1 or 2 or 3 or 4:\"))\n",
    "def ATM_options(choice):\n",
    "    match choice:\n",
    "        case 1:\n",
    "            return \"Check balance\"\n",
    "        case 2:\n",
    "            return \"Withdraw money\"\n",
    "        case 3:\n",
    "            return \"Deposit Money\"\n",
    "        case default:\n",
    "            return \"Exit\"\n",
    "option=ATM_options(choice)\n",
    "print(option)"
   ]
  },
  {
   "cell_type": "code",
   "execution_count": 5,
   "id": "23d4b4fe-24da-4a0b-9c1c-3f86e2a8b540",
   "metadata": {},
   "outputs": [
    {
     "name": "stdout",
     "output_type": "stream",
     "text": [
      "Welcome to the Dice Roller!\n"
     ]
    },
    {
     "name": "stdin",
     "output_type": "stream",
     "text": [
      "Roll the dice? (y/n):  6\n"
     ]
    },
    {
     "name": "stdout",
     "output_type": "stream",
     "text": [
      "Invalid input, try again.\n"
     ]
    },
    {
     "name": "stdin",
     "output_type": "stream",
     "text": [
      "Roll the dice? (y/n):  y\n"
     ]
    },
    {
     "name": "stdout",
     "output_type": "stream",
     "text": [
      "You rolled a: 3\n"
     ]
    },
    {
     "name": "stdin",
     "output_type": "stream",
     "text": [
      "Roll the dice? (y/n):  n\n"
     ]
    },
    {
     "name": "stdout",
     "output_type": "stream",
     "text": [
      "Goodbye!\n"
     ]
    }
   ],
   "source": [
    "import random\n",
    "def dice_roller():\n",
    "    score = 0\n",
    "    print(\"Welcome to the Dice Roller!\")\n",
    "    while True:\n",
    "        roll = input(\"Roll the dice? (y/n): \").lower()\n",
    "        if roll == 'y':\n",
    "            print(\"You rolled a:\", random.randint(1, 6))\n",
    "        elif roll == 'n':\n",
    "            print(\"Goodbye!\")\n",
    "            break\n",
    "        else:\n",
    "            print(\"Invalid input, try again.\")\n",
    "dice_roller()\n"
   ]
  },
  {
   "cell_type": "code",
   "execution_count": 11,
   "id": "efd636cd-1e6a-42a6-87df-ccd9addfa0a9",
   "metadata": {},
   "outputs": [
    {
     "name": "stdout",
     "output_type": "stream",
     "text": [
      "Unscramble the word: modanr\n"
     ]
    },
    {
     "name": "stdin",
     "output_type": "stream",
     "text": [
      "Your guess:  random\n"
     ]
    },
    {
     "name": "stdout",
     "output_type": "stream",
     "text": [
      "Correct! You win!\n",
      "Your total score is: 1\n"
     ]
    }
   ],
   "source": [
    "import random\n",
    "def word_scramble():\n",
    "    words = [\"python\", \"random\", \"scramble\", \"function\", \"computer\"]\n",
    "    word = random.choice(words)\n",
    "    scrambled = ''.join(random.sample(word, len(word)))\n",
    "    score = 0\n",
    "    print(\"Unscramble the word:\", scrambled)\n",
    "    guess = input(\"Your guess: \")\n",
    "    if guess == word:\n",
    "        score += 1\n",
    "        print(\"Correct! You win!\")\n",
    "    else:\n",
    "        print(f\"Wrong! The word was: {word}\")\n",
    "    print(f\"Your total score is: {score}\")\n",
    "word_scramble()"
   ]
  },
  {
   "cell_type": "code",
   "execution_count": 13,
   "id": "3c6cc00c-0b5b-4f37-9617-c8e8990bc4fc",
   "metadata": {},
   "outputs": [
    {
     "name": "stdout",
     "output_type": "stream",
     "text": [
      "Unscramble the word: ['d', 'm', 'a', 'n', 'r', 'o']\n"
     ]
    },
    {
     "name": "stdin",
     "output_type": "stream",
     "text": [
      "Your guess:  random\n"
     ]
    },
    {
     "name": "stdout",
     "output_type": "stream",
     "text": [
      "Correct! You win!\n",
      "Your total score is: 1\n"
     ]
    }
   ],
   "source": [
    "import random\n",
    "def word_scramble():\n",
    "    words = [\"python\", \"random\", \"scramble\", \"function\", \"computer\"]\n",
    "    word = random.choice(words)\n",
    "    scrambled = random.sample(word, len(word))\n",
    "    score = 0\n",
    "    print(\"Unscramble the word:\", scrambled)\n",
    "    guess = input(\"Your guess: \")\n",
    "    if guess == word:\n",
    "        score += 1\n",
    "        print(\"Correct! You win!\")\n",
    "    else:\n",
    "        print(f\"Wrong! The word was: {word}\")\n",
    "    print(f\"Your total score is: {score}\")\n",
    "word_scramble()"
   ]
  },
  {
   "cell_type": "code",
   "execution_count": 19,
   "id": "e2ee99d5-519d-4851-9609-1bdc66233bf6",
   "metadata": {},
   "outputs": [
    {
     "name": "stdout",
     "output_type": "stream",
     "text": [
      "4\n"
     ]
    }
   ],
   "source": [
    "A=6\n",
    "B=5\n",
    "S=A&B\n",
    "print(S) "
   ]
  },
  {
   "cell_type": "code",
   "execution_count": null,
   "id": "9f390c70-06d6-4733-be08-09abf6bbabe6",
   "metadata": {},
   "outputs": [],
   "source": []
  }
 ],
 "metadata": {
  "kernelspec": {
   "display_name": "Python 3 (ipykernel)",
   "language": "python",
   "name": "python3"
  },
  "language_info": {
   "codemirror_mode": {
    "name": "ipython",
    "version": 3
   },
   "file_extension": ".py",
   "mimetype": "text/x-python",
   "name": "python",
   "nbconvert_exporter": "python",
   "pygments_lexer": "ipython3",
   "version": "3.12.4"
  }
 },
 "nbformat": 4,
 "nbformat_minor": 5
}
