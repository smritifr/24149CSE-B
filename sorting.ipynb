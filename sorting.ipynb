{
 "cells": [
  {
   "cell_type": "code",
   "execution_count": 3,
   "id": "a7e3142c-525f-46cd-ba7c-3363f0a051a9",
   "metadata": {},
   "outputs": [
    {
     "name": "stdout",
     "output_type": "stream",
     "text": [
      "Sorted Array in Ascending Order:\n",
      "[-9, -2, 0, 11, 45]\n"
     ]
    }
   ],
   "source": [
    "def selectionSort(array, n):\n",
    "    for i in range(n):\n",
    "        min = i\n",
    "        for j in range(i + 1, n): #j will keep running even if if condition doesnt work.\n",
    "            # to sort in descending order, change > to < in this line\n",
    "            if array[j] < array[min]:\n",
    "                min = j\n",
    "        # put min at the correct position\n",
    "        (array[i], array[min]) = (array[min], array[i]) #whatever is min, putting it at 0th index\n",
    "data = [-2, 45, 0, 11, -9]\n",
    "n = len(data)\n",
    "selectionSort(data, n)\n",
    "print('Sorted Array in Ascending Order:')\n",
    "print(data)"
   ]
  },
  {
   "cell_type": "code",
   "execution_count": 15,
   "id": "ee0319f6-e757-49bc-8098-66fe72b87f2e",
   "metadata": {},
   "outputs": [
    {
     "name": "stdout",
     "output_type": "stream",
     "text": [
      "Sorted Array in Ascending Order:\n",
      "[-33, -1, 1, 2, 3, 32, 45]\n"
     ]
    }
   ],
   "source": [
    "temp=0\n",
    "def BubbleSort(array,n):\n",
    "    for i in range(n):\n",
    "        for j in range(i):\n",
    "            if array[i]<array[j]:\n",
    "                temp=array[i]\n",
    "                array[i]=array[j]\n",
    "                array[j]=temp\n",
    "                #return array\n",
    "L=[1,2,-33,3,45,32,-1]\n",
    "n=len(L)\n",
    "BubbleSort(L,n)\n",
    "print('Sorted Array in Ascending Order:')\n",
    "print(L)"
   ]
  },
  {
   "cell_type": "code",
   "execution_count": 1,
   "id": "cdde2ee8-b29e-472e-ade9-25de4652dfca",
   "metadata": {},
   "outputs": [
    {
     "name": "stdout",
     "output_type": "stream",
     "text": [
      "Sorted Array in Ascending Order:\n",
      "[1, 3, 4, 5, 9]\n"
     ]
    }
   ],
   "source": [
    "def insertionSort(array):\n",
    "    n=len(array)\n",
    "    if n<=1: #if only 0 or 1 element then already sorted\n",
    "        return\n",
    "    for i in range(1, n): #1 bc 0th index is alr sorted\n",
    "        key = array[i]\n",
    "        j = i - 1\n",
    "        # Compare key with each element on the left of it until an element smaller than it is found\n",
    "        # For descending order, change key<array[j] to key>array[j].        \n",
    "        while j >= 0 and key < array[j]:\n",
    "            array[j + 1] = array[j]\n",
    "            j -= 1\n",
    "        # Place key at after the element just smaller than it.\n",
    "        array[j + 1] = key #out of loop bc insert only once after checking with all elements.\n",
    "        #print(array)\n",
    "data = [9, 5, 1, 4, 3]\n",
    "insertionSort(data)\n",
    "print('Sorted Array in Ascending Order:')\n",
    "print(data) "
   ]
  },
  {
   "cell_type": "code",
   "execution_count": 3,
   "id": "8bccc06e-18dd-4cbc-b6fb-9222527129cd",
   "metadata": {},
   "outputs": [
    {
     "data": {
      "text/plain": [
       "35.2"
      ]
     },
     "execution_count": 3,
     "metadata": {},
     "output_type": "execute_result"
    }
   ],
   "source": [
    "abs(-35.2)"
   ]
  },
  {
   "cell_type": "code",
   "execution_count": 5,
   "id": "576a698f-e2e9-4576-9ec3-976458ce905c",
   "metadata": {},
   "outputs": [
    {
     "name": "stdout",
     "output_type": "stream",
     "text": [
      "7\n",
      "8\n",
      "bob\n",
      "ji\n",
      "koo\n"
     ]
    }
   ],
   "source": [
    "l=[7,8,\"bob\",\"ji\",\"koo\"]\n",
    "for i in l:\n",
    "    print(i)"
   ]
  },
  {
   "cell_type": "code",
   "execution_count": 7,
   "id": "cf7fbb9b-e8d9-4187-bb69-d3f569871063",
   "metadata": {},
   "outputs": [
    {
     "data": {
      "text/plain": [
       "5"
      ]
     },
     "execution_count": 7,
     "metadata": {},
     "output_type": "execute_result"
    }
   ],
   "source": [
    "def linear_search(arr,n):\n",
    "    for i in range(n):\n",
    "        if key==arr[i]:\n",
    "            return i\n",
    "    return -1\n",
    "L=[3,85,4,97,1.2,2,7]\n",
    "key=2\n",
    "n=len(L)\n",
    "linear_search(L,n)"
   ]
  },
  {
   "cell_type": "code",
   "execution_count": 37,
   "id": "d23d4cb5-2bd4-40c5-821b-b59d93886496",
   "metadata": {},
   "outputs": [
    {
     "data": {
      "text/plain": [
       "2"
      ]
     },
     "execution_count": 37,
     "metadata": {},
     "output_type": "execute_result"
    }
   ],
   "source": [
    "#using iterative method\n",
    "def binary_search(arr,key):\n",
    "    low=0\n",
    "    high=len(arr)-1\n",
    "    while low<=high:\n",
    "        mid=(low+high)//2\n",
    "        if arr[mid]>key:\n",
    "            high-=1\n",
    "        elif arr[mid]<key:\n",
    "            low+=1\n",
    "        else:\n",
    "            return mid\n",
    "    return -1\n",
    "L=[-4,-3,0,2,4,5,89,99]\n",
    "key=0\n",
    "binary_search(L,key)"
   ]
  },
  {
   "cell_type": "code",
   "execution_count": 39,
   "id": "405e5504-5686-49ea-96ce-1ca7b82eaaa9",
   "metadata": {},
   "outputs": [
    {
     "data": {
      "text/plain": [
       "2"
      ]
     },
     "execution_count": 39,
     "metadata": {},
     "output_type": "execute_result"
    }
   ],
   "source": [
    "#using recursive method\n",
    "def binary_search(arr,low,high):\n",
    "    if low<=high:\n",
    "        mid=(low+high)//2\n",
    "        if arr[mid]>key:\n",
    "            return binary_search(arr,low,mid-1)\n",
    "        elif arr[mid]<key:\n",
    "            return binary_search(arr,mid+1,high)\n",
    "        else:\n",
    "            return mid\n",
    "    return -1\n",
    "L=[-4,-3,0,2,4,5,89,99]\n",
    "key=0\n",
    "low=0\n",
    "high=len(L)-1\n",
    "binary_search(L,low,high)"
   ]
  },
  {
   "cell_type": "code",
   "execution_count": 43,
   "id": "fa9ca3b3-fdbc-4ad0-a3e6-a2ddf25a0dc0",
   "metadata": {},
   "outputs": [
    {
     "name": "stdout",
     "output_type": "stream",
     "text": [
      "[-9, 0, 2, 3, 7, 9, 54]\n"
     ]
    }
   ],
   "source": [
    "def insertionsort(arr,n):\n",
    "    if n<=1:\n",
    "        return\n",
    "    for i in range(1,n):\n",
    "        key=arr[i]\n",
    "        j=i-1\n",
    "        while j>=0 and key<arr[j]:\n",
    "            arr[j+1]=arr[j]\n",
    "            j-=1\n",
    "        arr[j+1]=key\n",
    "arr=[2,54,7,9,3,0,-9]\n",
    "n=len(arr)\n",
    "insertionsort(arr,n)\n",
    "print(arr)"
   ]
  },
  {
   "cell_type": "code",
   "execution_count": 49,
   "id": "9d666b0a-c6b9-442f-8ee4-19defaae39e2",
   "metadata": {},
   "outputs": [
    {
     "name": "stdout",
     "output_type": "stream",
     "text": [
      "[-9, 2, 0, 7, 3, 9, 54]\n"
     ]
    }
   ],
   "source": [
    "def selectionsort(arr,n):\n",
    "    for i in range(n):\n",
    "        min=i\n",
    "        for j in range(i+1,n):\n",
    "            if arr[j]<arr[i]:\n",
    "                min=j\n",
    "        (arr[i],arr[min])=(arr[min],arr[i])\n",
    "arr=[2,54,7,9,3,0,-9]\n",
    "n=len(arr)\n",
    "selectionsort(arr,n)\n",
    "print(arr)"
   ]
  },
  {
   "cell_type": "code",
   "execution_count": 58,
   "id": "38514ce7-9a70-4d88-b900-f1f98ae55c4b",
   "metadata": {},
   "outputs": [
    {
     "data": {
      "text/plain": [
       "5"
      ]
     },
     "execution_count": 58,
     "metadata": {},
     "output_type": "execute_result"
    }
   ],
   "source": [
    "def linear_search(arr,n):\n",
    "    for i in range(n):\n",
    "        if key==arr[i]:\n",
    "            return i\n",
    "    return -1\n",
    "arr=[2,5,1,4,7,0,53]\n",
    "key=0\n",
    "n=len(arr)\n",
    "linear_search(arr,n)"
   ]
  },
  {
   "cell_type": "code",
   "execution_count": 64,
   "id": "1ad8a867-020a-43a0-a963-55c741a27699",
   "metadata": {},
   "outputs": [
    {
     "data": {
      "text/plain": [
       "3"
      ]
     },
     "execution_count": 64,
     "metadata": {},
     "output_type": "execute_result"
    }
   ],
   "source": [
    "def binary_search(arr,low,high):\n",
    "    low=0\n",
    "    high=len(arr)-1\n",
    "    if low<=high:\n",
    "        mid=(low+high)//2\n",
    "        if arr[mid]>key:\n",
    "            return binary_search(arr,low,mid-1)\n",
    "        elif arr[mid]<key:\n",
    "            binary_search(arr,mid+1,high)\n",
    "        else:\n",
    "            return mid\n",
    "    return -1\n",
    "L=[-4,-2,0,5,6,8,10]\n",
    "low=0\n",
    "key=5\n",
    "high=len(L)-1\n",
    "binary_search(L,low,high)"
   ]
  },
  {
   "cell_type": "code",
   "execution_count": null,
   "id": "43455006-48ce-4af7-8ad7-1e29bbc4f8c7",
   "metadata": {},
   "outputs": [],
   "source": []
  }
 ],
 "metadata": {
  "kernelspec": {
   "display_name": "Python 3 (ipykernel)",
   "language": "python",
   "name": "python3"
  },
  "language_info": {
   "codemirror_mode": {
    "name": "ipython",
    "version": 3
   },
   "file_extension": ".py",
   "mimetype": "text/x-python",
   "name": "python",
   "nbconvert_exporter": "python",
   "pygments_lexer": "ipython3",
   "version": "3.12.4"
  }
 },
 "nbformat": 4,
 "nbformat_minor": 5
}
