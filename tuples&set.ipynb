{
 "cells": [
  {
   "cell_type": "code",
   "execution_count": 1,
   "id": "d0718737-e732-43d5-8767-424627329e18",
   "metadata": {},
   "outputs": [
    {
     "data": {
      "text/plain": [
       "('hi', 'bye', 'wassap')"
      ]
     },
     "execution_count": 1,
     "metadata": {},
     "output_type": "execute_result"
    }
   ],
   "source": [
    "thistuple=(\"hi\",\"bye\",\"wassap\")\n",
    "thistuple"
   ]
  },
  {
   "cell_type": "code",
   "execution_count": 3,
   "id": "4cf83a53-326c-418f-9ae9-12bbb52cecf1",
   "metadata": {},
   "outputs": [
    {
     "name": "stdout",
     "output_type": "stream",
     "text": [
      "<class 'tuple'>\n"
     ]
    }
   ],
   "source": [
    "thistuple=tuple((\"hi\" \"bye\" \"woah\"))\n",
    "print(type(thistuple))"
   ]
  },
  {
   "cell_type": "code",
   "execution_count": 5,
   "id": "abe803fa-5eef-472c-909f-288fcae94cda",
   "metadata": {},
   "outputs": [
    {
     "name": "stdout",
     "output_type": "stream",
     "text": [
      "<class 'tuple'>\n"
     ]
    }
   ],
   "source": [
    "thistuple=tuple((\"hi\"\"bye\"\"woah\"))\n",
    "print(type(thistuple))"
   ]
  },
  {
   "cell_type": "code",
   "execution_count": 9,
   "id": "9c954405-f228-489c-ade5-8776add0c816",
   "metadata": {},
   "outputs": [
    {
     "name": "stdout",
     "output_type": "stream",
     "text": [
      "['h', 'e', 'l', 'l', 'o', 'b', 'y', 'e']\n"
     ]
    }
   ],
   "source": [
    "mylist=list((\"hello\"\"bye\"))\n",
    "print(mylist)"
   ]
  },
  {
   "cell_type": "code",
   "execution_count": 13,
   "id": "0c3ced7f-545e-426e-8435-940d8edb4062",
   "metadata": {},
   "outputs": [
    {
     "name": "stdout",
     "output_type": "stream",
     "text": [
      "('apple', 'strawberry', 'cherry')\n"
     ]
    }
   ],
   "source": [
    "x=(\"apple\",\"kiwi\",\"cherry\")\n",
    "y=list(x)\n",
    "y[1]=\"strawberry\"\n",
    "x=tuple(y)\n",
    "print(x)"
   ]
  },
  {
   "cell_type": "code",
   "execution_count": 15,
   "id": "60b91d63-b211-44bd-8251-b1dd569d21f3",
   "metadata": {},
   "outputs": [
    {
     "name": "stdout",
     "output_type": "stream",
     "text": [
      "('hey', 4, (4, 6), 'bye')\n"
     ]
    }
   ],
   "source": [
    "x=(\"hey\",4,(4,6),\"bye\")\n",
    "print(x)"
   ]
  },
  {
   "cell_type": "code",
   "execution_count": 23,
   "id": "5932c90b-30c3-4d7a-8725-808bd4f5ee64",
   "metadata": {},
   "outputs": [
    {
     "name": "stdout",
     "output_type": "stream",
     "text": [
      "('apple', 'banana', 'kiwi', 'cherry')\n"
     ]
    }
   ],
   "source": [
    "x=(\"apple\",\"banana\",\"cherry\")\n",
    "y=list(x)\n",
    "y.insert(2,\"kiwi\")\n",
    "x=tuple(y)\n",
    "print(x)"
   ]
  },
  {
   "cell_type": "code",
   "execution_count": 27,
   "id": "5dd1e914-60fb-40aa-ba98-9b8aa645d785",
   "metadata": {},
   "outputs": [
    {
     "name": "stdout",
     "output_type": "stream",
     "text": [
      "('hi', 'bye', 'orrange')\n",
      "('banana', 'cherry')\n"
     ]
    }
   ],
   "source": [
    "#you can either append an element to the tuple after converting it to a list or add 2 tuples\n",
    "x=(\"hi\",\"bye\")\n",
    "y=(\"orrange\",)\n",
    "x+=y\n",
    "print(x)\n",
    "#to remove an element convert to list again\n",
    "x=(\"apple\",\"banana\",\"cherry\")\n",
    "y=list(x)\n",
    "y.remove(\"apple\")\n",
    "x=tuple(y)\n",
    "print(x)"
   ]
  },
  {
   "cell_type": "code",
   "execution_count": 29,
   "id": "ba593625-095b-478d-be77-28fc59e348eb",
   "metadata": {},
   "outputs": [
    {
     "data": {
      "text/plain": [
       "('apple', 'orange')"
      ]
     },
     "execution_count": 29,
     "metadata": {},
     "output_type": "execute_result"
    }
   ],
   "source": [
    "#pack\n",
    "x=(\"apple\",\"orange\")\n",
    "x"
   ]
  },
  {
   "cell_type": "code",
   "execution_count": 31,
   "id": "e63d3507-d5a3-4f7d-89a4-f63db0aad364",
   "metadata": {},
   "outputs": [
    {
     "name": "stdout",
     "output_type": "stream",
     "text": [
      "apple\n"
     ]
    }
   ],
   "source": [
    "#unpack\n",
    "x=(\"apple\",\"banana\",\"cherry\")\n",
    "(a,b,c)=x\n",
    "print(a)"
   ]
  },
  {
   "cell_type": "code",
   "execution_count": 35,
   "id": "9896907f-a07d-4756-bcbe-8e8eb169835e",
   "metadata": {},
   "outputs": [
    {
     "name": "stdout",
     "output_type": "stream",
     "text": [
      "cherry\n"
     ]
    }
   ],
   "source": [
    "#unpack\n",
    "x=(\"apple\",\"banana\",\"cherry\")\n",
    "a,b,c=x\n",
    "print(c)"
   ]
  },
  {
   "cell_type": "code",
   "execution_count": 41,
   "id": "8d1a7641-f7b0-4a51-9682-2547c352fe04",
   "metadata": {},
   "outputs": [
    {
     "name": "stdout",
     "output_type": "stream",
     "text": [
      "apple\n",
      "banana\n",
      "['cherry', 'orange']\n",
      " \n",
      "apple\n",
      "['banana', 'cherry']\n",
      "orange\n"
     ]
    }
   ],
   "source": [
    "#*(pointer basically) so many variables 1 var\n",
    "x=(\"apple\",\"banana\",\"cherry\",\"orange\")\n",
    "(a,b,*c)=x\n",
    "print(a)\n",
    "print(b)\n",
    "print(c)\n",
    "print(\" \")\n",
    "x=(\"apple\",\"banana\",\"cherry\",\"orange\")\n",
    "(a,*b,c)=x\n",
    "print(a)\n",
    "print(b)\n",
    "print(c)"
   ]
  },
  {
   "cell_type": "code",
   "execution_count": 45,
   "id": "8ef91f72-3238-437a-9559-7630a83aaaba",
   "metadata": {},
   "outputs": [
    {
     "name": "stdout",
     "output_type": "stream",
     "text": [
      "apple\n",
      "banana\n",
      "cherry\n"
     ]
    }
   ],
   "source": [
    "thistuple=(\"apple\",\"banana\",\"cherry\")\n",
    "for i in range(len(thistuple)):\n",
    "    print(thistuple[i])"
   ]
  },
  {
   "cell_type": "code",
   "execution_count": 47,
   "id": "56bd3d04-9b07-4231-b068-48ca66fc9823",
   "metadata": {},
   "outputs": [
    {
     "name": "stdout",
     "output_type": "stream",
     "text": [
      "('apple', 'banana', 'cherry', 'apple', 'banana', 'cherry', 'apple', 'banana', 'cherry', 'apple', 'banana', 'cherry')\n"
     ]
    }
   ],
   "source": [
    "#multiply\n",
    "thistuple=(\"apple\",\"banana\",\"cherry\")\n",
    "mytuple=thistuple*4\n",
    "print(mytuple)"
   ]
  },
  {
   "cell_type": "code",
   "execution_count": 55,
   "id": "87f977f6-beea-4902-9222-43b82b587394",
   "metadata": {},
   "outputs": [
    {
     "name": "stdout",
     "output_type": "stream",
     "text": [
      "fr\n"
     ]
    }
   ],
   "source": [
    "myset={\"apple\",\"banana\",\"cherry\"}\n",
    "if \"apple\" in myset:\n",
    "    print(\"fr\")"
   ]
  },
  {
   "cell_type": "code",
   "execution_count": 57,
   "id": "c22fe636-117f-4aeb-ac76-e7677dc97044",
   "metadata": {},
   "outputs": [
    {
     "name": "stdout",
     "output_type": "stream",
     "text": [
      "{'u', 'cherry', 'r', 'apple', 'b', 'banana'}\n"
     ]
    }
   ],
   "source": [
    "myset={\"apple\",\"banana\",\"cherry\"}\n",
    "myset.update(\"burrr\") \n",
    "#adds string as set to the set\n",
    "print(myset)"
   ]
  },
  {
   "cell_type": "code",
   "execution_count": 59,
   "id": "7f512109-9a49-4982-a34a-9576b52dce70",
   "metadata": {},
   "outputs": [
    {
     "name": "stdout",
     "output_type": "stream",
     "text": [
      "{'apple', 'banana', 'cherry', 'burrr'}\n"
     ]
    }
   ],
   "source": [
    "myset={\"apple\",\"banana\",\"cherry\"}\n",
    "#basically append only\n",
    "myset.add(\"burrr\") \n",
    "print(myset)"
   ]
  },
  {
   "cell_type": "code",
   "execution_count": 61,
   "id": "f04cb6a3-bbf8-43cb-af67-a87958fb2729",
   "metadata": {},
   "outputs": [
    {
     "name": "stdout",
     "output_type": "stream",
     "text": [
      "{'apple', 'banana'}\n"
     ]
    }
   ],
   "source": [
    "myset={\"apple\",\"banana\",\"cherry\"}\n",
    "myset.remove(\"cherry\") \n",
    "print(myset)"
   ]
  },
  {
   "cell_type": "code",
   "execution_count": 63,
   "id": "25c97374-e862-454d-9e5f-8192fe70d811",
   "metadata": {},
   "outputs": [
    {
     "name": "stdout",
     "output_type": "stream",
     "text": [
      "{'apple', 'banana'}\n"
     ]
    }
   ],
   "source": [
    "myset={\"apple\",\"banana\",\"cherry\"}\n",
    "myset.discard(\"cherry\") \n",
    "print(myset)"
   ]
  },
  {
   "cell_type": "code",
   "execution_count": 7,
   "id": "38adcdeb-1516-4219-bd67-08ca73b5ad3e",
   "metadata": {},
   "outputs": [
    {
     "name": "stdout",
     "output_type": "stream",
     "text": [
      "{'cherry', 'banana'}\n"
     ]
    }
   ],
   "source": [
    "myset={\"apple\",\"banana\",\"cherry\"}\n",
    "#pops any value\n",
    "myset.pop()\n",
    "print(myset)"
   ]
  },
  {
   "cell_type": "code",
   "execution_count": null,
   "id": "9d8564b2-93bd-4fba-a9df-8038a6d5db0b",
   "metadata": {},
   "outputs": [],
   "source": [
    "#clear but empty set is there, del whole set deleted del thisset\n",
    "#union and update discard duplicate values"
   ]
  },
  {
   "cell_type": "code",
   "execution_count": 1,
   "id": "eeb2aa78-32b6-426f-88a9-3fc2a1454a9e",
   "metadata": {},
   "outputs": [
    {
     "name": "stdout",
     "output_type": "stream",
     "text": [
      "{'hi', 34, 43, 'yo'}\n"
     ]
    }
   ],
   "source": [
    "tuple1=tuple((\"hi\",34,\"yo\",34,43))\n",
    "s=set((tuple1))\n",
    "print(s)"
   ]
  },
  {
   "cell_type": "code",
   "execution_count": null,
   "id": "680eb9f2-bdb7-4144-a5a8-21bb497426a4",
   "metadata": {},
   "outputs": [],
   "source": []
  }
 ],
 "metadata": {
  "kernelspec": {
   "display_name": "Python 3 (ipykernel)",
   "language": "python",
   "name": "python3"
  },
  "language_info": {
   "codemirror_mode": {
    "name": "ipython",
    "version": 3
   },
   "file_extension": ".py",
   "mimetype": "text/x-python",
   "name": "python",
   "nbconvert_exporter": "python",
   "pygments_lexer": "ipython3",
   "version": "3.12.4"
  }
 },
 "nbformat": 4,
 "nbformat_minor": 5
}
