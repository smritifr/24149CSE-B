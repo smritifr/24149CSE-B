{
 "cells": [
  {
   "cell_type": "code",
   "execution_count": 1,
   "id": "eb511edd-a2dd-476d-b211-7a271557abd7",
   "metadata": {},
   "outputs": [
    {
     "name": "stdin",
     "output_type": "stream",
     "text": [
      "enter the number you want to check: 33\n"
     ]
    },
    {
     "name": "stdout",
     "output_type": "stream",
     "text": [
      "number is not divisible by 7\n"
     ]
    }
   ],
   "source": [
    "number=int(input(\"enter the number you want to check:\"))\n",
    "if (number%7==0):\n",
    "    print(\"the number is divisible by 7\")\n",
    "else:\n",
    "    print(\"number is not divisible by 7\")"
   ]
  },
  {
   "cell_type": "code",
   "execution_count": 3,
   "id": "d6e6928a-beab-4894-8d19-16e4fd9e4363",
   "metadata": {},
   "outputs": [
    {
     "name": "stdin",
     "output_type": "stream",
     "text": [
      "enter the number you want to check: 56\n"
     ]
    },
    {
     "name": "stdout",
     "output_type": "stream",
     "text": [
      "the number is not divisible by both\n"
     ]
    }
   ],
   "source": [
    "number=int(input(\"enter the number you want to check:\"))\n",
    "if number%5==0 and number%7==0:\n",
    "    print(\"the number is divisible by both 5 and 7\")\n",
    "else:\n",
    "    print(\"the number is not divisible by both\")"
   ]
  },
  {
   "cell_type": "code",
   "execution_count": 4,
   "id": "c481ba2c-70f7-4090-8cff-78f43e652b67",
   "metadata": {},
   "outputs": [
    {
     "name": "stdin",
     "output_type": "stream",
     "text": [
      "enter the first num: 3\n",
      "enter the second num: 4\n"
     ]
    },
    {
     "name": "stdout",
     "output_type": "stream",
     "text": [
      "the sum of both numbers is: 7\n"
     ]
    }
   ],
   "source": [
    "x=int(input(\"enter the first num:\"))\n",
    "y=int(input(\"enter the second num:\"))\n",
    "z=x+y\n",
    "print(\"the sum of both numbers is:\",z)"
   ]
  },
  {
   "cell_type": "code",
   "execution_count": 5,
   "id": "7ee0aa51-24a4-40d3-9b9b-3ab571cec845",
   "metadata": {},
   "outputs": [
    {
     "name": "stdin",
     "output_type": "stream",
     "text": [
      "enter the first num: 4\n",
      "enter the second num: 2\n",
      "enter the third num: 77\n"
     ]
    },
    {
     "name": "stdout",
     "output_type": "stream",
     "text": [
      "the sum of three numbers is : 83\n"
     ]
    }
   ],
   "source": [
    "x=int(input(\"enter the first num:\"))\n",
    "y=int(input(\"enter the second num:\"))\n",
    "z=int(input(\"enter the third num:\"))\n",
    "w=x+y+z\n",
    "print(\"the sum of three numbers is :\",w)"
   ]
  },
  {
   "cell_type": "code",
   "execution_count": 6,
   "id": "37a1d89e-9695-4c58-a340-3847271679ed",
   "metadata": {},
   "outputs": [
    {
     "name": "stdin",
     "output_type": "stream",
     "text": [
      "enter the length of the side of the square: 4\n"
     ]
    },
    {
     "name": "stdout",
     "output_type": "stream",
     "text": [
      "the area of the square is: 16\n"
     ]
    }
   ],
   "source": [
    "side=int(input(\"enter the length of the side of the square:\"))\n",
    "area=side**2\n",
    "print(\"the area of the square is:\",area)"
   ]
  },
  {
   "cell_type": "code",
   "execution_count": 7,
   "id": "57df701b-9e4b-4659-9aa1-f68de2851165",
   "metadata": {},
   "outputs": [
    {
     "name": "stdin",
     "output_type": "stream",
     "text": [
      "enter the length of the rectangle: 4\n",
      "enter the breadth of the rectangle: 75\n"
     ]
    },
    {
     "name": "stdout",
     "output_type": "stream",
     "text": [
      "the area of the rectangle is: 300\n"
     ]
    }
   ],
   "source": [
    "l=int(input(\"enter the length of the rectangle:\"))\n",
    "b=int(input(\"enter the breadth of the rectangle:\"))\n",
    "area=l*b\n",
    "print(\"the area of the rectangle is:\",area)\n"
   ]
  },
  {
   "cell_type": "code",
   "execution_count": 8,
   "id": "6f7f0f3e-b35b-47e5-acbd-6613e2a319a7",
   "metadata": {},
   "outputs": [
    {
     "name": "stdin",
     "output_type": "stream",
     "text": [
      "enter the radius of the circle: 3\n"
     ]
    },
    {
     "name": "stdout",
     "output_type": "stream",
     "text": [
      "the area of the circle is: 28.26\n"
     ]
    }
   ],
   "source": [
    "radius=int(input(\"enter the radius of the circle:\"))\n",
    "area=3.14*radius**2\n",
    "print(\"the area of the circle is:\",area)"
   ]
  },
  {
   "cell_type": "code",
   "execution_count": 9,
   "id": "b27c8184-9e3c-41ea-a470-005c7f017a32",
   "metadata": {},
   "outputs": [
    {
     "name": "stdin",
     "output_type": "stream",
     "text": [
      "enter the value of a: 3\n",
      "enter the value of b: 5\n",
      "enter the value of c: 2\n"
     ]
    },
    {
     "name": "stdout",
     "output_type": "stream",
     "text": [
      "the discriminant is: 1\n"
     ]
    }
   ],
   "source": [
    "a=int(input(\"enter the value of a:\"))\n",
    "b=int(input(\"enter the value of b:\"))\n",
    "c=int(input(\"enter the value of c:\"))\n",
    "D=b**2-(4*a*c)\n",
    "print(\"the discriminant is:\",D)"
   ]
  },
  {
   "cell_type": "code",
   "execution_count": null,
   "id": "4fe6be43-3b95-42ee-a514-75ce6ac7d817",
   "metadata": {},
   "outputs": [],
   "source": []
  }
 ],
 "metadata": {
  "kernelspec": {
   "display_name": "Python 3 (ipykernel)",
   "language": "python",
   "name": "python3"
  },
  "language_info": {
   "codemirror_mode": {
    "name": "ipython",
    "version": 3
   },
   "file_extension": ".py",
   "mimetype": "text/x-python",
   "name": "python",
   "nbconvert_exporter": "python",
   "pygments_lexer": "ipython3",
   "version": "3.12.4"
  }
 },
 "nbformat": 4,
 "nbformat_minor": 5
}
