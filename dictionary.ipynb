{
 "cells": [
  {
   "cell_type": "code",
   "execution_count": null,
   "id": "b1355eae-cded-4aa2-b4e2-d966b8065d4b",
   "metadata": {},
   "outputs": [],
   "source": [
    "#any data types eg int, bool, list, str, anyth\n",
    "#append or update(overwriting) also and change value also but not keys\n",
    "#.clear empties dict, but del dict deletes it"
   ]
  },
  {
   "cell_type": "code",
   "execution_count": 7,
   "id": "3e4b7d75-4b10-4f64-904d-0805284f4d31",
   "metadata": {},
   "outputs": [
    {
     "name": "stdout",
     "output_type": "stream",
     "text": [
      "r\n"
     ]
    }
   ],
   "source": [
    "thisdict={\"brand\": \"ford\",\"electric\": 3344, \"make\":1687}\n",
    "print(thisdict[\"brand\"][2]) #d[key]"
   ]
  },
  {
   "cell_type": "code",
   "execution_count": 11,
   "id": "65dc02d6-2a11-4c55-84d5-471dd3f96ecf",
   "metadata": {},
   "outputs": [
    {
     "data": {
      "text/plain": [
       "dict_items([('brand', 'ford'), ('electric', 3344), ('make', 1687)])"
      ]
     },
     "execution_count": 11,
     "metadata": {},
     "output_type": "execute_result"
    }
   ],
   "source": [
    "thisdict={\"brand\": \"ford\",\"electric\": 3344, \"make\":1687}\n",
    "x=thisdict.items()\n",
    "x"
   ]
  },
  {
   "cell_type": "code",
   "execution_count": 15,
   "id": "bcb99b76-aa79-4898-88d9-8b57ac09ffcd",
   "metadata": {},
   "outputs": [
    {
     "data": {
      "text/plain": [
       "('make', 1687)"
      ]
     },
     "execution_count": 15,
     "metadata": {},
     "output_type": "execute_result"
    }
   ],
   "source": [
    "thisdict={\"brand\": \"ford\",\"electric\": 3344, \"make\":1687}\n",
    "x=thisdict.popitem()#deletes last and takes no arg, .pop(key) takes arg atleast 1   \n",
    "x"
   ]
  },
  {
   "cell_type": "code",
   "execution_count": 17,
   "id": "c59f8916-7ed0-4043-a770-f4386dc3ca32",
   "metadata": {},
   "outputs": [
    {
     "name": "stdout",
     "output_type": "stream",
     "text": [
      "[12, 'what', 2333, 'waow', 'yellow']\n"
     ]
    }
   ],
   "source": [
    "#add item to the end of the list\n",
    "L=[12,'what',2333,'waow']\n",
    "L.append(\"yellow\")\n",
    "print(L)"
   ]
  },
  {
   "cell_type": "code",
   "execution_count": 29,
   "id": "6d728885-3219-4908-9e21-c519c56e747e",
   "metadata": {},
   "outputs": [
    {
     "data": {
      "text/plain": [
       "[12, 'what', 2333, 'waow', 45, 'yeow']"
      ]
     },
     "execution_count": 29,
     "metadata": {},
     "output_type": "execute_result"
    }
   ],
   "source": [
    "#extend the list, join fx asw\n",
    "L=[12,'what',2333,'waow']\n",
    "L.extend((45,\"yeow\"))\n",
    "L"
   ]
  },
  {
   "cell_type": "code",
   "execution_count": 23,
   "id": "2e695be0-dca8-4290-8466-5008ef01210e",
   "metadata": {},
   "outputs": [
    {
     "name": "stdout",
     "output_type": "stream",
     "text": [
      ".segnaro evol i\n"
     ]
    }
   ],
   "source": [
    "S=\"i love oranges.\"\n",
    "print(S[::-1])"
   ]
  },
  {
   "cell_type": "code",
   "execution_count": 31,
   "id": "b0880a15-eada-4697-82f7-776d78800e54",
   "metadata": {},
   "outputs": [
    {
     "data": {
      "text/plain": [
       "[4]"
      ]
     },
     "execution_count": 31,
     "metadata": {},
     "output_type": "execute_result"
    }
   ],
   "source": [
    "t=(4,)\n",
    "l=list(t)\n",
    "l"
   ]
  },
  {
   "cell_type": "code",
   "execution_count": null,
   "id": "feca13ab-3576-44ec-a669-123170591fd8",
   "metadata": {},
   "outputs": [],
   "source": [
    "#list has dupli set no dupli ordered,unordered, set add , list update INSERT\n",
    "#to clear set:"
   ]
  },
  {
   "cell_type": "code",
   "execution_count": 37,
   "id": "0f82282e-1a05-443b-afca-0b8c1907b315",
   "metadata": {},
   "outputs": [
    {
     "data": {
      "text/plain": [
       "set()"
      ]
     },
     "execution_count": 37,
     "metadata": {},
     "output_type": "execute_result"
    }
   ],
   "source": [
    "L={12,'what',2333,'waow'}\n",
    "L.clear()\n",
    "L"
   ]
  },
  {
   "cell_type": "code",
   "execution_count": 41,
   "id": "06007142-c78e-4e0f-ac22-a11d3c5cfbc9",
   "metadata": {},
   "outputs": [
    {
     "data": {
      "text/plain": [
       "{1, 2, 3, 4, 5}"
      ]
     },
     "execution_count": 41,
     "metadata": {},
     "output_type": "execute_result"
    }
   ],
   "source": [
    "t=(1,2,3,4,5)\n",
    "S=set(t)\n",
    "S"
   ]
  },
  {
   "cell_type": "code",
   "execution_count": 63,
   "id": "80b94076-5a62-419a-8444-7cb9f5ad7f8e",
   "metadata": {},
   "outputs": [
    {
     "data": {
      "text/plain": [
       "[2, 43, 43, 5, 42, 1]"
      ]
     },
     "execution_count": 63,
     "metadata": {},
     "output_type": "execute_result"
    }
   ],
   "source": [
    "L=[2,43,43,42,1]\n",
    "L.insert(3,5)\n",
    "L"
   ]
  },
  {
   "cell_type": "code",
   "execution_count": null,
   "id": "73d6fb63-1cd3-4b57-b32c-5f1dc6fe8b73",
   "metadata": {},
   "outputs": [],
   "source": [
    "#to find second largest number, sort in ascend the index to get the max question."
   ]
  },
  {
   "cell_type": "code",
   "execution_count": 11,
   "id": "3e7587d2-36d9-47fe-9736-96a507d05f3d",
   "metadata": {},
   "outputs": [
    {
     "name": "stdout",
     "output_type": "stream",
     "text": [
      "['jishnu', 'jaswanth']\n"
     ]
    }
   ],
   "source": [
    "L=[\"jishnu\",\"sanjana\",\"thianny\",\"jaswanth\"]\n",
    "new_list=[item for item in L if 'j'==item[0]]\n",
    "print(new_list)"
   ]
  },
  {
   "cell_type": "code",
   "execution_count": null,
   "id": "34467334-6b6f-47f2-98a6-942f6ce1a6c8",
   "metadata": {},
   "outputs": [],
   "source": [
    "squares=[x**2 for x in range(10)]\n",
    "print(squares)"
   ]
  },
  {
   "cell_type": "code",
   "execution_count": 17,
   "id": "aa6fabb3-a780-4b9f-87f6-6b389340a0f0",
   "metadata": {},
   "outputs": [
    {
     "name": "stdout",
     "output_type": "stream",
     "text": [
      "3\n"
     ]
    }
   ],
   "source": [
    "string=\"programming\"\n",
    "vowel=\"AaEeIiOoUu\"\n",
    "count=sum(1 for char in string if char in vowel)\n",
    "print(count)"
   ]
  },
  {
   "cell_type": "code",
   "execution_count": 13,
   "id": "e036058c-7059-44ab-a0aa-367bdc9a5a26",
   "metadata": {},
   "outputs": [
    {
     "name": "stdout",
     "output_type": "stream",
     "text": [
      "['o', 'a', 'i']\n"
     ]
    }
   ],
   "source": [
    "string=\"programming\"\n",
    "vowel=\"AaEeIiOoUu\"\n",
    "L=list((char for char in string if char in vowel))\n",
    "print(L)"
   ]
  },
  {
   "cell_type": "code",
   "execution_count": 29,
   "id": "fd78f82c-058b-4013-aa28-7a621a44714c",
   "metadata": {},
   "outputs": [
    {
     "name": "stdout",
     "output_type": "stream",
     "text": [
      "['o', 'a', 'i']\n"
     ]
    }
   ],
   "source": [
    "string=\"programming\"\n",
    "vowel=\"AaEeIiOoUu\"\n",
    "vow=[char for char in string if char in vowel]\n",
    "print(vow)"
   ]
  },
  {
   "cell_type": "code",
   "execution_count": 31,
   "id": "a5e8808d-d2c9-400b-949d-dc6ce7459e23",
   "metadata": {},
   "outputs": [
    {
     "name": "stdout",
     "output_type": "stream",
     "text": [
      "['p', 'r', 'g', 'r', 'm', 'm', 'n', 'g']\n"
     ]
    }
   ],
   "source": [
    "string=\"programming\"\n",
    "vowel=\"AaEeIiOoUu\"\n",
    "const=[char for char in string if char not in vowel]\n",
    "print(const)"
   ]
  },
  {
   "cell_type": "code",
   "execution_count": 37,
   "id": "5ba4aa1a-4f6d-4f51-9b95-668b1519a8d9",
   "metadata": {},
   "outputs": [
    {
     "name": "stdout",
     "output_type": "stream",
     "text": [
      "7\n"
     ]
    }
   ],
   "source": [
    "#to count the number of words in the sentence\n",
    "string=\"my name is sheila sheila ki jawani\"\n",
    "word_count=len(string.split())\n",
    "print(word_count)"
   ]
  },
  {
   "cell_type": "code",
   "execution_count": 15,
   "id": "430f6072-131e-461b-82ef-530e375a9e36",
   "metadata": {},
   "outputs": [
    {
     "name": "stdout",
     "output_type": "stream",
     "text": [
      "hello world\n"
     ]
    }
   ],
   "source": [
    "#remove punctuatuons\n",
    "import string as s\n",
    "input=\"hello, world.\"\n",
    "new=''.join(char for char in input if char not in s.punctuation)\n",
    "print(new)"
   ]
  },
  {
   "cell_type": "code",
   "execution_count": 49,
   "id": "c267159a-ee28-495c-9dd8-a33de3d490ca",
   "metadata": {},
   "outputs": [
    {
     "name": "stdout",
     "output_type": "stream",
     "text": [
      "[0, 1, 2, 3, 4, 5, 6, 7, 8, 9]\n"
     ]
    }
   ],
   "source": [
    "newlist = [x for x in range(10)]\n",
    "print(newlist)"
   ]
  },
  {
   "cell_type": "code",
   "execution_count": 23,
   "id": "36081366-18c1-42d8-8960-9a7d7aa87d23",
   "metadata": {},
   "outputs": [
    {
     "name": "stdout",
     "output_type": "stream",
     "text": [
      "sData SciencecData ScienceiData ScienceeData SciencenData SciencecData ScienceeData Science Data ScienceiData SciencesData Science Data SciencefData ScienceuData Sciencen\n"
     ]
    }
   ],
   "source": [
    "#import string as s\n",
    "input=\"Data Science\"\n",
    "new=input.join(\"science is fun\")\n",
    "print(new)"
   ]
  },
  {
   "cell_type": "code",
   "execution_count": 55,
   "id": "c41e3655-a1a8-4afe-b3de-aaad56189e41",
   "metadata": {},
   "outputs": [
    {
     "name": "stdout",
     "output_type": "stream",
     "text": [
      "['orange', 'orange', 'apple']\n"
     ]
    }
   ],
   "source": [
    "fruits=[\"banana\",\"orange\",\"apple\"]\n",
    "newlist = [x if x != \"banana\" else \"orange\" for x in fruits]\n",
    "print(newlist)"
   ]
  },
  {
   "cell_type": "code",
   "execution_count": 57,
   "id": "e9108de4-38ef-48a0-847b-725e91f8f069",
   "metadata": {},
   "outputs": [
    {
     "name": "stdout",
     "output_type": "stream",
     "text": [
      "['my', 'name', 'is', 'sheila', 'sheila', 'ki', 'jawani']\n"
     ]
    }
   ],
   "source": [
    "string=\"my name is sheila sheila ki jawani\"\n",
    "print(string.split())"
   ]
  },
  {
   "cell_type": "code",
   "execution_count": 79,
   "id": "c18fb9d2-42f5-420d-9fe1-25e1977464e2",
   "metadata": {},
   "outputs": [
    {
     "name": "stdout",
     "output_type": "stream",
     "text": [
      " python babooshka\n"
     ]
    }
   ],
   "source": [
    "sentence=\"python is fun babooshka\"\n",
    "werd=sentence.split()\n",
    "word=''\n",
    "for i in werd:\n",
    "    if(len(i)>len(word)):\n",
    "        word=word+' '+i\n",
    "print(word)"
   ]
  },
  {
   "cell_type": "code",
   "execution_count": 87,
   "id": "68533df6-c0d8-4715-a976-3ee3bf9b0285",
   "metadata": {},
   "outputs": [
    {
     "name": "stdout",
     "output_type": "stream",
     "text": [
      "7\n"
     ]
    }
   ],
   "source": [
    "string=\"hello world\"\n",
    "last=string.rfind('o')\n",
    "print(last)"
   ]
  },
  {
   "cell_type": "code",
   "execution_count": 97,
   "id": "1b2cd15c-b42a-4ac9-9757-dfca7db1b795",
   "metadata": {},
   "outputs": [
    {
     "ename": "TypeError",
     "evalue": "'str' object is not callable",
     "output_type": "error",
     "traceback": [
      "\u001b[1;31m---------------------------------------------------------------------------\u001b[0m",
      "\u001b[1;31mTypeError\u001b[0m                                 Traceback (most recent call last)",
      "Cell \u001b[1;32mIn[97], line 6\u001b[0m\n\u001b[0;32m      4\u001b[0m     \u001b[38;5;28;01melse\u001b[39;00m:\n\u001b[0;32m      5\u001b[0m         \u001b[38;5;28;01mreturn\u001b[39;00m \u001b[38;5;124m\"\u001b[39m\u001b[38;5;124mthe letter aint a\u001b[39m\u001b[38;5;124m\"\u001b[39m\n\u001b[1;32m----> 6\u001b[0m name1\u001b[38;5;241m=\u001b[39m\u001b[38;5;28minput\u001b[39m(\u001b[38;5;124m\"\u001b[39m\u001b[38;5;124mname:\u001b[39m\u001b[38;5;124m\"\u001b[39m)\n\u001b[0;32m      7\u001b[0m letter\u001b[38;5;241m=\u001b[39mname1[\u001b[38;5;241m0\u001b[39m]\u001b[38;5;241m.\u001b[39mlower()\n\u001b[0;32m      8\u001b[0m result\u001b[38;5;241m=\u001b[39mnames(letter)\n",
      "\u001b[1;31mTypeError\u001b[0m: 'str' object is not callable"
     ]
    }
   ],
   "source": [
    "def names(letter):\n",
    "    if letter=='a':\n",
    "        return \"the letter is a\"\n",
    "    else:\n",
    "        return \"the letter aint a\"\n",
    "name1=input(\"name:\")\n",
    "letter=name1[0].lower()\n",
    "result=names(letter)\n",
    "print(f\"{name} is a {result}\")"
   ]
  },
  {
   "cell_type": "code",
   "execution_count": null,
   "id": "d4e22d31-aca5-410b-a484-5f447cb29e22",
   "metadata": {},
   "outputs": [],
   "source": []
  }
 ],
 "metadata": {
  "kernelspec": {
   "display_name": "Python 3 (ipykernel)",
   "language": "python",
   "name": "python3"
  },
  "language_info": {
   "codemirror_mode": {
    "name": "ipython",
    "version": 3
   },
   "file_extension": ".py",
   "mimetype": "text/x-python",
   "name": "python",
   "nbconvert_exporter": "python",
   "pygments_lexer": "ipython3",
   "version": "3.12.4"
  }
 },
 "nbformat": 4,
 "nbformat_minor": 5
}
